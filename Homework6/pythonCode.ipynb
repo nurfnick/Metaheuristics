{
  "nbformat": 4,
  "nbformat_minor": 0,
  "metadata": {
    "colab": {
      "provenance": [],
      "authorship_tag": "ABX9TyMZHlcKdl/GlqNRIuPv/LcT",
      "include_colab_link": true
    },
    "kernelspec": {
      "name": "python3",
      "display_name": "Python 3"
    },
    "language_info": {
      "name": "python"
    }
  },
  "cells": [
    {
      "cell_type": "markdown",
      "metadata": {
        "id": "view-in-github",
        "colab_type": "text"
      },
      "source": [
        "<a href=\"https://colab.research.google.com/github/nurfnick/Metaheuristics/blob/main/Homework6/pythonCode.ipynb\" target=\"_parent\"><img src=\"https://colab.research.google.com/assets/colab-badge.svg\" alt=\"Open In Colab\"/></a>"
      ]
    },
    {
      "cell_type": "markdown",
      "source": [
        "# Meta-Heuristics Homework 6"
      ],
      "metadata": {
        "id": "bVMsPZvFZxDD"
      }
    },
    {
      "cell_type": "code",
      "execution_count": 2,
      "metadata": {
        "id": "fdtgsVdFZwZl"
      },
      "outputs": [],
      "source": [
        "import copy\n",
        "from random import Random   #need this for the random number generation -- do not change\n",
        "import numpy as np\n"
      ]
    },
    {
      "cell_type": "code",
      "source": [
        "#to setup a random number generator, we will specify a \"seed\" value\n",
        "#need this for the random number generation -- do not change\n",
        "seed = 51132023\n",
        "myPRNG = Random(seed)\n",
        "\n",
        "#to get a random number between 0 and 1, use this:             myPRNG.random()\n",
        "#to get a random number between lwrBnd and upprBnd, use this:  myPRNG.uniform(lwrBnd,upprBnd)\n",
        "#to get a random integer between lwrBnd and upprBnd, use this: myPRNG.randint(lwrBnd,upprBnd)\n",
        "\n",
        "#number of elements in a solution\n",
        "n = 150\n",
        "\n",
        "#create an \"instance\" for the knapsack problem\n",
        "value = []\n",
        "for i in range(0,n):\n",
        "    value.append(round(myPRNG.triangular(5,1000,200),1))\n",
        "\n",
        "weights = []\n",
        "for i in range(0,n):\n",
        "    weights.append(round(myPRNG.triangular(10,200,60),1))\n",
        "\n",
        "#define max weight for the knapsack\n",
        "maxWeight = 2500\n"
      ],
      "metadata": {
        "id": "ekqO7lyYZ7gY"
      },
      "execution_count": 3,
      "outputs": []
    },
    {
      "cell_type": "code",
      "source": [
        "solutionsChecked = 0\n",
        "\n",
        "#function to evaluate a solution x\n",
        "def evaluate(x):\n",
        "\n",
        "    a=np.array(x)\n",
        "    b=np.array(value)\n",
        "    c=np.array(weights)\n",
        "\n",
        "    totalValue = np.dot(a,b)     #compute the value of the knapsack selection\n",
        "    totalWeight = np.dot(a,c)    #compute the weight value of the knapsack selection\n",
        "\n",
        "    if totalWeight > maxWeight:\n",
        "         #print (\"Oh no! The solution is infeasible!  What to do?  What to do?\")   #you will probably want to change this...\n",
        "         totalValue = -totalValue\n",
        "\n",
        "    return [totalValue, totalWeight]   #returns a list of both total value and total weight\n",
        "\n",
        "\n",
        "#here is a simple function to create a neighborhood\n",
        "#1-flip neighborhood of solution x\n",
        "def neighborhood(x):\n",
        "\n",
        "    nbrhood = []\n",
        "\n",
        "    for i in range(0,n):\n",
        "        nbrhood.append(x[:])\n",
        "        if nbrhood[i][i] == 1:\n",
        "            nbrhood[i][i] = 0\n",
        "        else:\n",
        "            nbrhood[i][i] = 1\n",
        "\n",
        "    return nbrhood\n",
        "\n",
        "def neighborhood_slide(x):\n",
        "\n",
        "    nbrhood = []\n",
        "\n",
        "    for i in range(0,len(x)-1):\n",
        "        newlist = x[i+1:]\n",
        "        newlist.extend(x[:i+1])\n",
        "        nbrhood.append(newlist)\n",
        "    return nbrhood\n",
        "\n",
        "#create the initial solution\n",
        "def initial_solution_zero():\n",
        "    x = []   #i recommend creating the solution as a list\n",
        "\n",
        "    for i in range(n):\n",
        "        x.append(0)\n",
        "        #x.append(myPRNG.randint(0,1))  #\n",
        "\n",
        "    return x\n",
        "\n",
        "def initial_solution_random():\n",
        "  x = []\n",
        "\n",
        "  for i in range(n):\n",
        "    x.append(myPRNG.randint(0,1))\n",
        "\n",
        "  i = myPRNG.randint(0,n-1)\n",
        "  while evaluate(x)[1] > maxWeight:\n",
        "    x[i] = 0\n",
        "    i=myPRNG.randint(0,n-1)\n",
        "\n",
        "  return x\n",
        "\n",
        "\n",
        "#varaible to record the number of solutions evaluated\n",
        "solutionsChecked = 0\n",
        "\n",
        "x_curr = initial_solution_random()  #x_curr will hold the current solution\n",
        "x_best = x_curr[:]           #x_best will hold the best solution\n",
        "f_curr = evaluate(x_curr)    #f_curr will hold the evaluation of the current soluton\n",
        "f_best = f_curr[:]\n"
      ],
      "metadata": {
        "id": "tLyPA36EaA5B"
      },
      "execution_count": 18,
      "outputs": []
    },
    {
      "cell_type": "code",
      "source": [
        "neighborhood_slide([1,2,3])"
      ],
      "metadata": {
        "colab": {
          "base_uri": "https://localhost:8080/"
        },
        "id": "0kVJdcHFac0q",
        "outputId": "ff97ee18-b538-4a01-b729-672d92a50301"
      },
      "execution_count": 19,
      "outputs": [
        {
          "output_type": "execute_result",
          "data": {
            "text/plain": [
              "[[2, 3, 1], [3, 1, 2]]"
            ]
          },
          "metadata": {},
          "execution_count": 19
        }
      ]
    },
    {
      "cell_type": "code",
      "source": [
        "#begin local search overall logic ----------------\n",
        "done = 0\n",
        "\n",
        "while done == 0:\n",
        "\n",
        "    Neighborhood = neighborhood_slide(x_curr)   #create a list of all neighbors in the neighborhood of x_curr\n",
        "\n",
        "    for s in Neighborhood:                #evaluate every member in the neighborhood of x_curr\n",
        "        solutionsChecked = solutionsChecked + 1\n",
        "        if evaluate(s)[0] > f_best[0]:\n",
        "            x_best = s[:]                 #find the best member and keep track of that solution\n",
        "            f_best = evaluate(s)[:]       #and store its evaluation\n",
        "\n",
        "    if f_best == f_curr:                  #if there were no improving solutions in the neighborhood\n",
        "        done = 1\n",
        "    else:\n",
        "\n",
        "        x_curr = x_best[:]         #else: move to the neighbor solution and continue\n",
        "        f_curr = f_best[:]         #evalute the current solution\n",
        "\n",
        "        print (\"\\nTotal number of solutions checked: \", solutionsChecked)\n",
        "        print (\"Best value found so far: \", f_best)\n",
        "\n",
        "print (\"\\nFinal number of solutions checked: \", solutionsChecked)\n",
        "print (\"Best value found: \", f_best[0])\n",
        "print (\"Weight is: \", f_best[1])\n",
        "print (\"Total number of items selected: \", np.sum(x_best))\n",
        "print (\"Best solution: \", x_best)"
      ],
      "metadata": {
        "colab": {
          "base_uri": "https://localhost:8080/"
        },
        "id": "HVs4O99oadzO",
        "outputId": "4265a7c6-0a05-4319-969e-53c4b9d67bff"
      },
      "execution_count": 21,
      "outputs": [
        {
          "output_type": "stream",
          "name": "stdout",
          "text": [
            "\n",
            "Final number of solutions checked:  447\n",
            "Best value found:  15473.8\n",
            "Weight is:  2410.2000000000003\n",
            "Total number of items selected:  29\n",
            "Best solution:  [0, 1, 0, 0, 0, 0, 0, 0, 1, 0, 1, 1, 0, 1, 0, 0, 1, 1, 0, 0, 0, 0, 0, 1, 0, 0, 1, 0, 1, 0, 0, 0, 0, 0, 0, 0, 0, 1, 0, 0, 0, 0, 0, 0, 0, 0, 1, 0, 1, 0, 0, 0, 0, 1, 0, 0, 0, 0, 0, 0, 0, 1, 0, 0, 0, 0, 0, 1, 0, 1, 0, 0, 1, 0, 0, 0, 0, 0, 1, 0, 1, 1, 0, 0, 0, 0, 1, 1, 0, 0, 0, 1, 0, 0, 0, 0, 0, 0, 0, 0, 0, 0, 0, 0, 0, 0, 0, 0, 0, 0, 0, 0, 0, 0, 0, 1, 0, 0, 0, 0, 0, 0, 0, 0, 0, 1, 0, 0, 0, 0, 0, 1, 0, 0, 0, 1, 0, 0, 0, 0, 0, 0, 1, 0, 0, 0, 0, 0, 0, 0]\n"
          ]
        }
      ]
    },
    {
      "cell_type": "code",
      "source": [
        "x_curr = initial_solution_random()  #x_curr will hold the current solution\n",
        "x_best = x_curr[:]           #x_best will hold the best solution\n",
        "f_curr = evaluate(x_curr)    #f_curr will hold the evaluation of the current soluton\n",
        "f_best = f_curr[:]\n",
        "\n",
        "#begin local search overall logic ----------------\n",
        "done = 0\n",
        "\n",
        "while done == 0:\n",
        "\n",
        "    Neighborhood = neighborhood(x_curr)   #create a list of all neighbors in the neighborhood of x_curr\n",
        "\n",
        "    for s in Neighborhood:                #evaluate every member in the neighborhood of x_curr\n",
        "        solutionsChecked = solutionsChecked + 1\n",
        "        if evaluate(s)[0] > f_best[0]:\n",
        "            x_best = s[:]                 #find the best member and keep track of that solution\n",
        "            f_best = evaluate(s)[:]       #and store its evaluation\n",
        "\n",
        "    if f_best == f_curr:                  #if there were no improving solutions in the neighborhood\n",
        "        done = 1\n",
        "    else:\n",
        "\n",
        "        x_curr = x_best[:]         #else: move to the neighbor solution and continue\n",
        "        f_curr = f_best[:]         #evalute the current solution\n",
        "\n",
        "        print (\"\\nTotal number of solutions checked: \", solutionsChecked)\n",
        "        print (\"Best value found so far: \", f_best)\n",
        "\n",
        "print (\"\\nFinal number of solutions checked: \", solutionsChecked)\n",
        "print (\"Best value found: \", f_best[0])\n",
        "print (\"Weight is: \", f_best[1])\n",
        "print (\"Total number of items selected: \", np.sum(x_best))\n",
        "print (\"Best solution: \", x_best)"
      ],
      "metadata": {
        "colab": {
          "base_uri": "https://localhost:8080/"
        },
        "id": "6zj96q0mzDFh",
        "outputId": "23e29bc7-4c7d-4422-8abe-5228206d33c3"
      },
      "execution_count": 22,
      "outputs": [
        {
          "output_type": "stream",
          "name": "stdout",
          "text": [
            "\n",
            "Total number of solutions checked:  597\n",
            "Best value found so far:  [12671.699999999999, 2490.8]\n",
            "\n",
            "Final number of solutions checked:  747\n",
            "Best value found:  12671.699999999999\n",
            "Weight is:  2490.8\n",
            "Total number of items selected:  30\n",
            "Best solution:  [0, 0, 0, 1, 0, 0, 1, 0, 0, 0, 0, 0, 0, 1, 0, 0, 0, 0, 0, 0, 0, 0, 0, 0, 0, 0, 1, 0, 1, 1, 1, 0, 0, 0, 0, 1, 0, 0, 1, 1, 0, 0, 0, 1, 0, 0, 0, 0, 0, 0, 0, 0, 0, 0, 0, 0, 0, 0, 0, 0, 0, 0, 0, 0, 0, 0, 0, 1, 0, 0, 0, 0, 1, 0, 0, 0, 0, 1, 0, 0, 1, 1, 0, 0, 0, 0, 0, 0, 1, 0, 0, 0, 0, 0, 0, 0, 0, 0, 1, 0, 1, 0, 0, 0, 0, 1, 0, 1, 0, 1, 1, 0, 1, 0, 0, 0, 0, 1, 1, 0, 0, 0, 0, 0, 0, 0, 1, 0, 0, 0, 0, 0, 0, 0, 0, 0, 0, 0, 0, 1, 0, 0, 1, 0, 0, 0, 0, 0, 1, 0]\n"
          ]
        }
      ]
    },
    {
      "cell_type": "code",
      "source": [],
      "metadata": {
        "id": "n9MiscgHzPe4"
      },
      "execution_count": null,
      "outputs": []
    }
  ]
}