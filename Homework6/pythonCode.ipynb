{
  "nbformat": 4,
  "nbformat_minor": 0,
  "metadata": {
    "colab": {
      "provenance": [],
      "authorship_tag": "ABX9TyP1i75+KxfDOPJiNT3AK/vO",
      "include_colab_link": true
    },
    "kernelspec": {
      "name": "python3",
      "display_name": "Python 3"
    },
    "language_info": {
      "name": "python"
    }
  },
  "cells": [
    {
      "cell_type": "markdown",
      "metadata": {
        "id": "view-in-github",
        "colab_type": "text"
      },
      "source": [
        "<a href=\"https://colab.research.google.com/github/nurfnick/Metaheuristics/blob/main/Homework6/pythonCode.ipynb\" target=\"_parent\"><img src=\"https://colab.research.google.com/assets/colab-badge.svg\" alt=\"Open In Colab\"/></a>"
      ]
    },
    {
      "cell_type": "markdown",
      "source": [
        "# Meta-Heuristics Homework 6"
      ],
      "metadata": {
        "id": "bVMsPZvFZxDD"
      }
    },
    {
      "cell_type": "code",
      "execution_count": 72,
      "metadata": {
        "id": "fdtgsVdFZwZl"
      },
      "outputs": [],
      "source": [
        "import copy\n",
        "from random import Random   #need this for the random number generation -- do not change\n",
        "import numpy as np\n"
      ]
    },
    {
      "cell_type": "code",
      "source": [
        "#to setup a random number generator, we will specify a \"seed\" value\n",
        "#need this for the random number generation -- do not change\n",
        "seed = 51132023\n",
        "myPRNG = Random(seed)\n",
        "\n",
        "#to get a random number between 0 and 1, use this:             myPRNG.random()\n",
        "#to get a random number between lwrBnd and upprBnd, use this:  myPRNG.uniform(lwrBnd,upprBnd)\n",
        "#to get a random integer between lwrBnd and upprBnd, use this: myPRNG.randint(lwrBnd,upprBnd)\n",
        "\n",
        "#number of elements in a solution\n",
        "n = 150\n",
        "\n",
        "#create an \"instance\" for the knapsack problem\n",
        "value = []\n",
        "for i in range(0,n):\n",
        "    value.append(round(myPRNG.triangular(5,1000,200),1))\n",
        "\n",
        "weights = []\n",
        "for i in range(0,n):\n",
        "    weights.append(round(myPRNG.triangular(10,200,60),1))\n",
        "\n",
        "#define max weight for the knapsack\n",
        "maxWeight = 2500\n"
      ],
      "metadata": {
        "id": "ekqO7lyYZ7gY"
      },
      "execution_count": 73,
      "outputs": []
    },
    {
      "cell_type": "code",
      "source": [
        "solutionsChecked = 0\n",
        "\n",
        "#function to evaluate a solution x\n",
        "def evaluate(x):\n",
        "\n",
        "    a=np.array(x)\n",
        "    b=np.array(value)\n",
        "    c=np.array(weights)\n",
        "\n",
        "    totalValue = np.dot(a,b)     #compute the value of the knapsack selection\n",
        "    totalWeight = np.dot(a,c)    #compute the weight value of the knapsack selection\n",
        "\n",
        "    if totalWeight > maxWeight:\n",
        "         #print (\"Oh no! The solution is infeasible!  What to do?  What to do?\")   #you will probably want to change this...\n",
        "         totalValue = myPRNG.randint(-100000,-1)\n",
        "\n",
        "    return [totalValue, totalWeight]   #returns a list of both total value and total weight\n",
        "\n",
        "\n",
        "#here is a simple function to create a neighborhood\n",
        "#1-flip neighborhood of solution x\n",
        "def neighborhood(x):\n",
        "\n",
        "    nbrhood = []\n",
        "\n",
        "    for i in range(0,n):\n",
        "        nbrhood.append(x[:])\n",
        "        if nbrhood[i][i] == 1:\n",
        "            nbrhood[i][i] = 0\n",
        "        else:\n",
        "            nbrhood[i][i] = 1\n",
        "\n",
        "    return nbrhood\n",
        "\n",
        "\n",
        "\n",
        "#create the initial solution\n",
        "def initial_solution_zero():\n",
        "    x = []   #i recommend creating the solution as a list\n",
        "\n",
        "    for i in range(n):\n",
        "        x.append(0)\n",
        "        #x.append(myPRNG.randint(0,1))  #\n",
        "\n",
        "    return x\n",
        "\n",
        "def initial_solution_random():\n",
        "  x = []\n",
        "\n",
        "  for i in range(n):\n",
        "    x.append(myPRNG.randint(0,1))\n",
        "\n",
        "  i = myPRNG.randint(0,n-1)\n",
        "  while evaluate(x)[1] > maxWeight:\n",
        "    x[i] = 0\n",
        "    i=myPRNG.randint(0,n-1)\n",
        "\n",
        "  return x\n",
        "\n",
        "\n",
        "#varaible to record the number of solutions evaluated\n",
        "solutionsChecked = 0\n",
        "\n",
        "x_curr = initial_solution_zero()  #x_curr will hold the current solution\n",
        "x_best = x_curr[:]           #x_best will hold the best solution\n",
        "f_curr = evaluate(x_curr)    #f_curr will hold the evaluation of the current soluton\n",
        "f_best = f_curr[:]\n"
      ],
      "metadata": {
        "id": "tLyPA36EaA5B"
      },
      "execution_count": 81,
      "outputs": []
    },
    {
      "cell_type": "code",
      "source": [
        "evaluate(x_curr)"
      ],
      "metadata": {
        "colab": {
          "base_uri": "https://localhost:8080/"
        },
        "id": "0kVJdcHFac0q",
        "outputId": "ffe5ea5d-dd96-4577-cadc-5e86b24ae0f1"
      },
      "execution_count": 82,
      "outputs": [
        {
          "output_type": "execute_result",
          "data": {
            "text/plain": [
              "[0.0, 0.0]"
            ]
          },
          "metadata": {},
          "execution_count": 82
        }
      ]
    },
    {
      "cell_type": "code",
      "source": [
        "#begin local search overall logic ----------------\n",
        "done = 0\n",
        "\n",
        "while done == 0:\n",
        "\n",
        "    Neighborhood = neighborhood(x_curr)   #create a list of all neighbors in the neighborhood of x_curr\n",
        "\n",
        "    for s in Neighborhood:                #evaluate every member in the neighborhood of x_curr\n",
        "        solutionsChecked = solutionsChecked + 1\n",
        "        if evaluate(s)[0] > f_best[0]:\n",
        "            x_best = s[:]                 #find the best member and keep track of that solution\n",
        "            f_best = evaluate(s)[:]       #and store its evaluation\n",
        "\n",
        "    if f_best == f_curr:                  #if there were no improving solutions in the neighborhood\n",
        "        done = 1\n",
        "    else:\n",
        "\n",
        "        x_curr = x_best[:]         #else: move to the neighbor solution and continue\n",
        "        f_curr = f_best[:]         #evalute the current solution\n",
        "\n",
        "        print (\"\\nTotal number of solutions checked: \", solutionsChecked)\n",
        "        print (\"Best value found so far: \", f_best)\n",
        "\n",
        "print (\"\\nFinal number of solutions checked: \", solutionsChecked)\n",
        "print (\"Best value found: \", f_best[0])\n",
        "print (\"Weight is: \", f_best[1])\n",
        "print (\"Total number of items selected: \", np.sum(x_best))\n",
        "print (\"Best solution: \", x_best)"
      ],
      "metadata": {
        "colab": {
          "base_uri": "https://localhost:8080/"
        },
        "id": "HVs4O99oadzO",
        "outputId": "7f452720-b6b7-4522-c8fb-725b39d54c0f"
      },
      "execution_count": 83,
      "outputs": [
        {
          "output_type": "stream",
          "name": "stdout",
          "text": [
            "\n",
            "Total number of solutions checked:  150\n",
            "Best value found so far:  [991.0, 118.2]\n",
            "\n",
            "Total number of solutions checked:  300\n",
            "Best value found so far:  [1913.6, 217.9]\n",
            "\n",
            "Total number of solutions checked:  450\n",
            "Best value found so far:  [2830.5, 383.5]\n",
            "\n",
            "Total number of solutions checked:  600\n",
            "Best value found so far:  [3726.6, 502.0]\n",
            "\n",
            "Total number of solutions checked:  750\n",
            "Best value found so far:  [4607.2, 640.3]\n",
            "\n",
            "Total number of solutions checked:  900\n",
            "Best value found so far:  [5477.099999999999, 717.5999999999999]\n",
            "\n",
            "Total number of solutions checked:  1050\n",
            "Best value found so far:  [6332.099999999999, 802.3]\n",
            "\n",
            "Total number of solutions checked:  1200\n",
            "Best value found so far:  [7155.299999999999, 923.8]\n",
            "\n",
            "Total number of solutions checked:  1350\n",
            "Best value found so far:  [7971.4, 1012.8]\n",
            "\n",
            "Total number of solutions checked:  1500\n",
            "Best value found so far:  [8775.4, 1127.8]\n",
            "\n",
            "Total number of solutions checked:  1650\n",
            "Best value found so far:  [9574.199999999999, 1216.5]\n",
            "\n",
            "Total number of solutions checked:  1800\n",
            "Best value found so far:  [10367.1, 1329.5]\n",
            "\n",
            "Total number of solutions checked:  1950\n",
            "Best value found so far:  [11106.2, 1384.2]\n",
            "\n",
            "Total number of solutions checked:  2100\n",
            "Best value found so far:  [11843.4, 1501.6000000000001]\n",
            "\n",
            "Total number of solutions checked:  2250\n",
            "Best value found so far:  [12567.1, 1577.0]\n",
            "\n",
            "Total number of solutions checked:  2400\n",
            "Best value found so far:  [13287.4, 1613.8]\n",
            "\n",
            "Total number of solutions checked:  2550\n",
            "Best value found so far:  [14002.5, 1639.6000000000001]\n",
            "\n",
            "Total number of solutions checked:  2700\n",
            "Best value found so far:  [14715.199999999999, 1754.8]\n",
            "\n",
            "Total number of solutions checked:  2850\n",
            "Best value found so far:  [15423.199999999999, 1814.3999999999999]\n",
            "\n",
            "Total number of solutions checked:  3000\n",
            "Best value found so far:  [16129.4, 1859.5]\n",
            "\n",
            "Total number of solutions checked:  3150\n",
            "Best value found so far:  [16834.8, 1919.3]\n",
            "\n",
            "Total number of solutions checked:  3300\n",
            "Best value found so far:  [17533.4, 2081.7000000000003]\n",
            "\n",
            "Total number of solutions checked:  3450\n",
            "Best value found so far:  [18215.5, 2132.2000000000003]\n",
            "\n",
            "Total number of solutions checked:  3600\n",
            "Best value found so far:  [18892.200000000004, 2248.3]\n",
            "\n",
            "Total number of solutions checked:  3750\n",
            "Best value found so far:  [19548.4, 2382.1000000000004]\n",
            "\n",
            "Total number of solutions checked:  3900\n",
            "Best value found so far:  [20189.4, 2394.2]\n",
            "\n",
            "Total number of solutions checked:  4050\n",
            "Best value found so far:  [20829.600000000002, 2449.4]\n",
            "\n",
            "Total number of solutions checked:  4200\n",
            "Best value found so far:  [21408.700000000004, 2491.5]\n",
            "\n",
            "Final number of solutions checked:  4350\n",
            "Best value found:  21408.700000000004\n",
            "Weight is:  2491.5\n",
            "Total number of items selected:  28\n",
            "Best solution:  [0, 1, 0, 0, 0, 1, 0, 0, 0, 0, 0, 0, 1, 0, 0, 0, 0, 0, 0, 0, 0, 0, 0, 0, 0, 0, 1, 0, 1, 1, 0, 0, 0, 0, 0, 0, 0, 0, 0, 0, 0, 0, 0, 0, 0, 0, 1, 1, 1, 0, 0, 0, 0, 0, 1, 0, 0, 1, 0, 0, 0, 0, 0, 0, 0, 0, 0, 0, 0, 1, 0, 0, 0, 1, 0, 0, 0, 1, 0, 0, 1, 0, 0, 0, 0, 0, 1, 0, 0, 1, 0, 0, 0, 0, 1, 0, 0, 0, 0, 1, 0, 0, 0, 0, 0, 0, 0, 0, 0, 0, 0, 0, 1, 0, 0, 0, 0, 0, 0, 0, 0, 0, 0, 0, 1, 0, 0, 1, 0, 0, 0, 0, 0, 0, 0, 1, 1, 1, 0, 0, 0, 0, 1, 1, 0, 0, 0, 0, 0, 1]\n"
          ]
        }
      ]
    },
    {
      "cell_type": "code",
      "source": [
        "x_curr = initial_solution_random()  #x_curr will hold the current solution\n",
        "x_best = x_curr[:]           #x_best will hold the best solution\n",
        "f_curr = evaluate(x_curr)    #f_curr will hold the evaluation of the current soluton\n",
        "f_best = f_curr[:]\n",
        "\n",
        "#begin local search overall logic ----------------\n",
        "done = 0\n",
        "\n",
        "while done == 0:\n",
        "\n",
        "    Neighborhood = neighborhood(x_curr)   #create a list of all neighbors in the neighborhood of x_curr\n",
        "\n",
        "    for s in Neighborhood:                #evaluate every member in the neighborhood of x_curr\n",
        "        solutionsChecked = solutionsChecked + 1\n",
        "        if evaluate(s)[0] > f_best[0]:\n",
        "            x_best = s[:]                 #find the best member and keep track of that solution\n",
        "            f_best = evaluate(s)[:]       #and store its evaluation\n",
        "\n",
        "    if f_best == f_curr:                  #if there were no improving solutions in the neighborhood\n",
        "        done = 1\n",
        "    else:\n",
        "\n",
        "        x_curr = x_best[:]         #else: move to the neighbor solution and continue\n",
        "        f_curr = f_best[:]         #evalute the current solution\n",
        "\n",
        "        print (\"\\nTotal number of solutions checked: \", solutionsChecked)\n",
        "        print (\"Best value found so far: \", f_best)\n",
        "\n",
        "print (\"\\nFinal number of solutions checked: \", solutionsChecked)\n",
        "print (\"Best value found: \", f_best[0])\n",
        "print (\"Weight is: \", f_best[1])\n",
        "print (\"Total number of items selected: \", np.sum(x_best))\n",
        "print (\"Best solution: \", x_best)"
      ],
      "metadata": {
        "colab": {
          "base_uri": "https://localhost:8080/"
        },
        "id": "6zj96q0mzDFh",
        "outputId": "bc5f03d7-26f9-454e-e757-8a3e328e0d46"
      },
      "execution_count": 84,
      "outputs": [
        {
          "output_type": "stream",
          "name": "stdout",
          "text": [
            "\n",
            "Total number of solutions checked:  4500\n",
            "Best value found so far:  [12894.399999999998, 2470.3]\n",
            "\n",
            "Total number of solutions checked:  4650\n",
            "Best value found so far:  [13609.5, 2496.1000000000004]\n",
            "\n",
            "Final number of solutions checked:  4800\n",
            "Best value found:  13609.5\n",
            "Weight is:  2496.1000000000004\n",
            "Total number of items selected:  31\n",
            "Best solution:  [0, 1, 0, 1, 0, 0, 0, 0, 1, 0, 0, 0, 1, 1, 0, 0, 0, 1, 0, 0, 0, 1, 1, 0, 0, 0, 0, 1, 1, 1, 0, 0, 0, 1, 0, 0, 0, 0, 0, 0, 0, 0, 0, 0, 0, 0, 0, 0, 0, 1, 1, 1, 0, 0, 1, 0, 0, 0, 0, 0, 0, 0, 0, 0, 0, 0, 1, 0, 0, 0, 0, 0, 1, 0, 0, 1, 0, 1, 0, 0, 0, 0, 0, 1, 0, 1, 0, 0, 0, 0, 0, 1, 0, 0, 0, 0, 0, 1, 0, 0, 0, 0, 1, 1, 0, 0, 0, 0, 1, 0, 0, 0, 0, 0, 0, 0, 0, 0, 0, 0, 1, 0, 0, 0, 0, 0, 0, 0, 0, 0, 0, 0, 0, 1, 0, 0, 0, 1, 0, 0, 0, 0, 0, 0, 0, 0, 0, 0, 1, 0]\n"
          ]
        }
      ]
    },
    {
      "cell_type": "code",
      "source": [],
      "metadata": {
        "id": "n9MiscgHzPe4"
      },
      "execution_count": null,
      "outputs": []
    }
  ]
}