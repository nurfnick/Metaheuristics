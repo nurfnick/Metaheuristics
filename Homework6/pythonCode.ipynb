{
  "nbformat": 4,
  "nbformat_minor": 0,
  "metadata": {
    "colab": {
      "provenance": [],
      "authorship_tag": "ABX9TyMHNU4hk24LmiYd2jFeFgKK",
      "include_colab_link": true
    },
    "kernelspec": {
      "name": "python3",
      "display_name": "Python 3"
    },
    "language_info": {
      "name": "python"
    }
  },
  "cells": [
    {
      "cell_type": "markdown",
      "metadata": {
        "id": "view-in-github",
        "colab_type": "text"
      },
      "source": [
        "<a href=\"https://colab.research.google.com/github/nurfnick/Metaheuristics/blob/main/Homework6/pythonCode.ipynb\" target=\"_parent\"><img src=\"https://colab.research.google.com/assets/colab-badge.svg\" alt=\"Open In Colab\"/></a>"
      ]
    },
    {
      "cell_type": "markdown",
      "source": [
        "# Meta-Heuristics Homework 6"
      ],
      "metadata": {
        "id": "bVMsPZvFZxDD"
      }
    },
    {
      "cell_type": "code",
      "execution_count": null,
      "metadata": {
        "id": "fdtgsVdFZwZl"
      },
      "outputs": [],
      "source": [
        "import copy\n",
        "from random import Random   #need this for the random number generation -- do not change\n",
        "import numpy as np\n"
      ]
    },
    {
      "cell_type": "code",
      "source": [
        "#to setup a random number generator, we will specify a \"seed\" value\n",
        "#need this for the random number generation -- do not change\n",
        "seed = 51132023\n",
        "myPRNG = Random(seed)\n",
        "\n",
        "#to get a random number between 0 and 1, use this:             myPRNG.random()\n",
        "#to get a random number between lwrBnd and upprBnd, use this:  myPRNG.uniform(lwrBnd,upprBnd)\n",
        "#to get a random integer between lwrBnd and upprBnd, use this: myPRNG.randint(lwrBnd,upprBnd)\n",
        "\n",
        "#number of elements in a solution\n",
        "n = 150\n",
        "\n",
        "#create an \"instance\" for the knapsack problem\n",
        "value = []\n",
        "for i in range(0,n):\n",
        "    value.append(round(myPRNG.triangular(5,1000,200),1))\n",
        "\n",
        "weights = []\n",
        "for i in range(0,n):\n",
        "    weights.append(round(myPRNG.triangular(10,200,60),1))\n",
        "\n",
        "#define max weight for the knapsack\n",
        "maxWeight = 2500\n"
      ],
      "metadata": {
        "id": "ekqO7lyYZ7gY"
      },
      "execution_count": null,
      "outputs": []
    },
    {
      "cell_type": "code",
      "source": [
        "solutionsChecked = 0\n",
        "\n",
        "#function to evaluate a solution x\n",
        "def evaluate(x):\n",
        "\n",
        "    a=np.array(x)\n",
        "    b=np.array(value)\n",
        "    c=np.array(weights)\n",
        "\n",
        "    totalValue = np.dot(a,b)     #compute the value of the knapsack selection\n",
        "    totalWeight = np.dot(a,c)    #compute the weight value of the knapsack selection\n",
        "\n",
        "    if totalWeight > maxWeight:\n",
        "         #print (\"Oh no! The solution is infeasible!  What to do?  What to do?\")   #you will probably want to change this...\n",
        "         totalValue = -totalValue\n",
        "\n",
        "    return [totalValue, totalWeight]   #returns a list of both total value and total weight\n",
        "\n",
        "\n",
        "#here is a simple function to create a neighborhood\n",
        "#1-flip neighborhood of solution x\n",
        "def neighborhood(x):\n",
        "\n",
        "    nbrhood = []\n",
        "\n",
        "    for i in range(0,n):\n",
        "        nbrhood.append(x[:])\n",
        "        if nbrhood[i][i] == 1:\n",
        "            nbrhood[i][i] = 0\n",
        "        else:\n",
        "            nbrhood[i][i] = 1\n",
        "\n",
        "    return nbrhood\n",
        "#take all the 1's and 0's and slide them around, keeping the order.\n",
        "def neighborhood_slide(x):\n",
        "\n",
        "    nbrhood = []\n",
        "\n",
        "    for i in range(0,len(x)):\n",
        "        newlist = x[i+1:]\n",
        "        newlist.extend(x[:i+1])\n",
        "        nbrhood.append(newlist)\n",
        "    return nbrhood\n",
        "\n",
        "\n",
        "def neighborhood_slide_and_flip(x):\n",
        "  nbrhood = []\n",
        "\n",
        "  for i in neighborhood(x):\n",
        "    nbrhood.extend(neighborhood_slide(i))\n",
        "\n",
        "  return nbrhood\n",
        "\n",
        "\n",
        "#create the initial solution\n",
        "def initial_solution_zero():\n",
        "    x = []   #i recommend creating the solution as a list\n",
        "\n",
        "    for i in range(n):\n",
        "        x.append(0)\n",
        "\n",
        "    return x\n",
        "\n",
        "def initial_solution_random():\n",
        "  x = []\n",
        "\n",
        "  for i in range(n):\n",
        "    x.append(myPRNG.randint(0,1))\n",
        "\n",
        "  return x\n",
        "\n",
        "def initial_solution_random_start_feasible():\n",
        "  x = []\n",
        "\n",
        "  for i in range(n):\n",
        "    x.append(myPRNG.randint(0,1))\n",
        "\n",
        "  i = myPRNG.randint(0,n-1)\n",
        "  while evaluate(x)[1] > maxWeight:\n",
        "    x[i] = 0\n",
        "    i=myPRNG.randint(0,n-1)\n",
        "\n",
        "  return x\n",
        "#varaible to record the number of solutions evaluated\n",
        "solutionsChecked = 0\n",
        "\n",
        "x_curr = initial_solution_zero()  #x_curr will hold the current solution\n",
        "x_best = x_curr[:]           #x_best will hold the best solution\n",
        "f_curr = evaluate(x_curr)    #f_curr will hold the evaluation of the current soluton\n",
        "f_best = f_curr[:]\n"
      ],
      "metadata": {
        "id": "tLyPA36EaA5B"
      },
      "execution_count": null,
      "outputs": []
    },
    {
      "cell_type": "markdown",
      "source": [
        "## Best Improvement"
      ],
      "metadata": {
        "id": "kVZjf4bmbCti"
      }
    },
    {
      "cell_type": "code",
      "source": [
        "#begin local search overall logic ----------------\n",
        "x_curr = initial_solution_zero()  #x_curr will hold the current solution\n",
        "x_best = x_curr[:]           #x_best will hold the best solution\n",
        "f_curr = evaluate(x_curr)    #f_curr will hold the evaluation of the current soluton\n",
        "f_best = f_curr[:]\n",
        "\n",
        "\n",
        "\n",
        "solutionsChecked = 0\n",
        "\n",
        "done = 0\n",
        "\n",
        "while done == 0:\n",
        "\n",
        "    Neighborhood = neighborhood_slide_and_flip(x_curr)   #create a list of all neighbors in the neighborhood of x_curr\n",
        "\n",
        "    for s in Neighborhood:                #evaluate every member in the neighborhood of x_curr\n",
        "        solutionsChecked = solutionsChecked + 1\n",
        "        if evaluate(s)[0] > f_best[0]:\n",
        "            x_best = s[:]                 #find the best member and keep track of that solution\n",
        "            f_best = evaluate(s)[:]       #and store its evaluation\n",
        "\n",
        "    if f_best == f_curr:                  #if there were no improving solutions in the neighborhood\n",
        "        done = 1\n",
        "    else:\n",
        "\n",
        "        x_curr = x_best[:]         #else: move to the neighbor solution and continue\n",
        "        f_curr = f_best[:]         #evalute the current solution\n",
        "\n",
        "        print (\"\\nTotal number of solutions checked: \", solutionsChecked)\n",
        "        print (\"Best value found so far: \", f_best)\n",
        "\n",
        "print (\"\\nFinal number of solutions checked: \", solutionsChecked)\n",
        "print (\"Best value found: \", f_best[0])\n",
        "print (\"Weight is: \", f_best[1])\n",
        "print (\"Total number of items selected: \", np.sum(x_best))\n",
        "print (\"Best solution: \", x_best)"
      ],
      "metadata": {
        "id": "HVs4O99oadzO"
      },
      "execution_count": null,
      "outputs": []
    },
    {
      "cell_type": "markdown",
      "source": [
        "## First Improvement"
      ],
      "metadata": {
        "id": "gteelq8TbI_V"
      }
    },
    {
      "cell_type": "code",
      "source": [
        "#begin local search overall logic ----------------\n",
        "x_curr = initial_solution_zero()  #x_curr will hold the current solution\n",
        "x_best = x_curr[:]           #x_best will hold the best solution\n",
        "f_curr = evaluate(x_curr)    #f_curr will hold the evaluation of the current soluton\n",
        "f_best = f_curr[:]\n",
        "\n",
        "\n",
        "\n",
        "solutionsChecked = 0\n",
        "\n",
        "done = 0\n",
        "\n",
        "while done == 0:\n",
        "\n",
        "    Neighborhood = neighborhood_slide_and_flip(x_curr)   #create a list of all neighbors in the neighborhood of x_curr\n",
        "\n",
        "    for s in Neighborhood:                #evaluate every member in the neighborhood of x_curr\n",
        "        solutionsChecked = solutionsChecked + 1\n",
        "        if evaluate(s)[0] > f_best[0]:\n",
        "            x_best = s[:]                 #find the best member and keep track of that solution\n",
        "            f_best = evaluate(s)[:]       #and store its evaluation\n",
        "            break\n",
        "\n",
        "    if f_best == f_curr:                  #if there were no improving solutions in the neighborhood\n",
        "        done = 1\n",
        "    else:\n",
        "\n",
        "        x_curr = x_best[:]         #else: move to the neighbor solution and continue\n",
        "        f_curr = f_best[:]         #evalute the current solution\n",
        "\n",
        "        print (\"\\nTotal number of solutions checked: \", solutionsChecked)\n",
        "        print (\"Best value found so far: \", f_best)\n",
        "\n",
        "print (\"\\nFinal number of solutions checked: \", solutionsChecked)\n",
        "print (\"Best value found: \", f_best[0])\n",
        "print (\"Weight is: \", f_best[1])\n",
        "print (\"Total number of items selected: \", np.sum(x_best))\n",
        "print (\"Best solution: \", x_best)"
      ],
      "metadata": {
        "id": "Q3DpHMYUbLjG"
      },
      "execution_count": null,
      "outputs": []
    },
    {
      "cell_type": "markdown",
      "source": [
        "## Random Restarts"
      ],
      "metadata": {
        "id": "XNq3P8i9dMwr"
      }
    },
    {
      "cell_type": "code",
      "source": [
        "k = 50\n",
        "solns = []\n",
        "\n",
        "for i in range(k):\n",
        "\n",
        "\n",
        "  x_curr = initial_solution_random_start_feasible()  #x_curr will hold the current solution\n",
        "  x_best = x_curr[:]           #x_best will hold the best solution\n",
        "  f_curr = evaluate(x_curr)    #f_curr will hold the evaluation of the current soluton\n",
        "  f_best = f_curr[:]\n",
        "\n",
        "#begin local search overall logic ----------------\n",
        "  done = 0\n",
        "  solutionsChecked = 0\n",
        "\n",
        "  while done == 0:\n",
        "\n",
        "    Neighborhood = neighborhood_slide_and_flip(x_curr)   #create a list of all neighbors in the neighborhood of x_curr\n",
        "\n",
        "    for s in Neighborhood:                #evaluate every member in the neighborhood of x_curr\n",
        "        solutionsChecked = solutionsChecked + 1\n",
        "        if evaluate(s)[0] > f_best[0]:\n",
        "            x_best = s[:]                 #find the best member and keep track of that solution\n",
        "            f_best = evaluate(s)[:]       #and store its evaluation\n",
        "            break\n",
        "\n",
        "    if f_best == f_curr:                  #if there were no improving solutions in the neighborhood\n",
        "        done = 1\n",
        "    else:\n",
        "\n",
        "        x_curr = x_best[:]         #else: move to the neighbor solution and continue\n",
        "        f_curr = f_best[:]         #evalute the current solution\n",
        "\n",
        "\n",
        "  solns.append(solutionsChecked)\n",
        "  solns.append(f_best[0])\n",
        "  solns.append(f_best[1])\n",
        "  solns.append(np.sum(x_best))\n",
        "  solns.append(x_best)\n",
        "\n"
      ],
      "metadata": {
        "id": "6zj96q0mzDFh"
      },
      "execution_count": null,
      "outputs": []
    },
    {
      "cell_type": "code",
      "source": [
        "weightsMax = []\n",
        "\n",
        "for i in range(0,k*5,5): #five things added to the solution array each execution\n",
        "  weightsMax.append(solns[i+1]) #objective is in 1 slot\n",
        "\n",
        "iter = weightsMax.index(max(weightsMax)) #find iteration with best value\n",
        "\n",
        "print (\"\\nFinal number of solutions checked: \", solns[5*iter]) #print results\n",
        "print (\"Best value found: \", solns[5*iter+1])\n",
        "print (\"Weight is: \", solns[5*iter+2])\n",
        "print (\"Total number of items selected: \", solns[5*iter+3])\n",
        "print (\"Best solution: \", solns[5*iter+4])"
      ],
      "metadata": {
        "id": "n9MiscgHzPe4"
      },
      "execution_count": null,
      "outputs": []
    },
    {
      "cell_type": "markdown",
      "source": [
        "## Random Walk"
      ],
      "metadata": {
        "id": "KATcOrwC2TQV"
      }
    },
    {
      "cell_type": "code",
      "source": [
        "#begin local search overall logic ----------------\n",
        "x_curr = initial_solution_zero()  #x_curr will hold the current solution\n",
        "x_best = x_curr[:]           #x_best will hold the best solution\n",
        "f_curr = evaluate(x_curr)    #f_curr will hold the evaluation of the current soluton\n",
        "f_best = f_curr[:]\n",
        "\n",
        "p = .89\n",
        "\n",
        "solutionsChecked = 0\n",
        "\n",
        "done = 0\n",
        "\n",
        "while done == 0:\n",
        "\n",
        "    Neighborhood = neighborhood_slide_and_flip(x_curr)   #create a list of all neighbors in the neighborhood of x_curr\n",
        "    ptest = myPRNG.random()\n",
        "\n",
        "    if p>ptest:\n",
        "      for s in Neighborhood:                #evaluate every member in the neighborhood of x_curr\n",
        "        solutionsChecked = solutionsChecked + 1\n",
        "        if evaluate(s)[0] > f_best[0]:\n",
        "            x_best = s[:]                 #find the best member and keep track of that solution\n",
        "            f_best = evaluate(s)[:]       #and store its evaluation\n",
        "    else:\n",
        "      randNbr = myPRNG.randint(0,len(Neighborhood)-1)\n",
        "      x_best = Neighborhood[randNbr][:]\n",
        "      f_best = evaluate(x_best)[:]\n",
        "\n",
        "    if f_best == f_curr:                  #if there were no improving solutions in the neighborhood\n",
        "        done = 1\n",
        "    else:\n",
        "\n",
        "        x_curr = x_best[:]         #else: move to the neighbor solution and continue\n",
        "        f_curr = f_best[:]         #evalute the current solution\n",
        "\n",
        "        print (\"\\nTotal number of solutions checked: \", solutionsChecked)\n",
        "        print (\"Best value found so far: \", f_best)\n",
        "        print (\"Current ptest value: \", ptest)\n",
        "\n",
        "print (\"\\nFinal number of solutions checked: \", solutionsChecked)\n",
        "print (\"Best value found: \", f_best[0])\n",
        "print (\"Weight is: \", f_best[1])\n",
        "print (\"Total number of items selected: \", np.sum(x_best))\n",
        "print (\"Best solution: \", x_best)"
      ],
      "metadata": {
        "id": "crw6U-hTeTGp"
      },
      "execution_count": null,
      "outputs": []
    },
    {
      "cell_type": "markdown",
      "source": [
        "## Stochastic Hill Climb"
      ],
      "metadata": {
        "id": "WCOCSGZWEcKG"
      }
    },
    {
      "cell_type": "code",
      "source": [
        "#begin local search overall logic ----------------\n",
        "x_curr = initial_solution_zero()  #x_curr will hold the current solution\n",
        "x_best = x_curr[:]           #x_best will hold the best solution\n",
        "f_curr = evaluate(x_curr)    #f_curr will hold the evaluation of the current soluton\n",
        "f_best = f_curr[:]\n",
        "\n",
        "\n",
        "\n",
        "solutionsChecked = 0\n",
        "\n",
        "done = 0\n",
        "\n",
        "while done == 0:\n",
        "\n",
        "    Neighborhood = neighborhood_slide_and_flip(x_curr)   #create a list of all neighbors in the neighborhood of x_curr\n",
        "    improvements = []\n",
        "\n",
        "    for s in Neighborhood:                #evaluate every member in the neighborhood of x_curr\n",
        "        solutionsChecked = solutionsChecked + 1\n",
        "        if evaluate(s)[0] > f_curr[0]:#compare to current not best\n",
        "            improvements.append(s[:])                 #add to list\n",
        "            improvements.append(evaluate(s)[:])       #and store its evaluation\n",
        "\n",
        "    if len(improvements)>0:\n",
        "        whichone = myPRNG.randint(0,len(improvements)/2 - 1) #randomly choose one of the improvements\n",
        "        x_best = improvements[2*whichone]\n",
        "        f_best = improvements[2*whichone +1]\n",
        "\n",
        "    if f_best == f_curr:                  #if there were no improving solutions in the neighborhood\n",
        "        done = 1\n",
        "    else:\n",
        "\n",
        "        x_curr = x_best[:]         #else: move to the neighbor solution and continue\n",
        "        f_curr = f_best[:]         #evalute the current solution\n",
        "\n",
        "        print (\"\\nTotal number of solutions checked: \", solutionsChecked)\n",
        "        print (\"Best value found so far: \", f_best)\n",
        "\n",
        "print (\"\\nFinal number of solutions checked: \", solutionsChecked)\n",
        "print (\"Best value found: \", f_best[0])\n",
        "print (\"Weight is: \", f_best[1])\n",
        "print (\"Total number of items selected: \", np.sum(x_best))\n",
        "print (\"Best solution: \", x_best)"
      ],
      "metadata": {
        "id": "e4LR64PBiH4M"
      },
      "execution_count": null,
      "outputs": []
    },
    {
      "cell_type": "code",
      "source": [
        "#begin local search overall logic ----------------\n",
        "x_curr = initial_solution_zero()  #x_curr will hold the current solution\n",
        "x_best = x_curr[:]           #x_best will hold the best solution\n",
        "f_curr = evaluate(x_curr)    #f_curr will hold the evaluation of the current soluton\n",
        "f_best = f_curr[:]\n",
        "\n",
        "\n",
        "\n",
        "solutionsChecked = 0\n",
        "\n",
        "done = 0\n",
        "\n",
        "while done == 0:\n",
        "\n",
        "    Neighborhood = neighborhood_slide_and_flip(x_curr)   #create a list of all neighbors in the neighborhood of x_curr\n",
        "    improvements = []\n",
        "\n",
        "    for s in Neighborhood:                #evaluate every member in the neighborhood of x_curr\n",
        "        solutionsChecked = solutionsChecked + 1\n",
        "        if evaluate(s)[0] > f_curr[0]:#compare to current not best\n",
        "            improvements.append(s[:])                 #add to list\n",
        "            improvements.append(evaluate(s)[:])       #and store its evaluation\n",
        "\n",
        "    if len(improvements)>0:\n",
        "      w = [] #array for values of improvments\n",
        "      for i in range(int(len(improvements)/2)):\n",
        "        w.append(improvements[2*i +1][0]) #just want the values\n",
        "\n",
        "\n",
        "      whichone = myPRNG.choices(range(int(len(improvements)/2)), weights = w, k = 1)[0] #randomly choose one of the improvements based on weights of those improvements\n",
        "      x_best = improvements[2*whichone]\n",
        "      f_best = improvements[2*whichone +1]\n",
        "\n",
        "    if f_best == f_curr:                  #if there were no improving solutions in the neighborhood\n",
        "        done = 1\n",
        "    else:\n",
        "\n",
        "        x_curr = x_best[:]         #else: move to the neighbor solution and continue\n",
        "        f_curr = f_best[:]         #evalute the current solution\n",
        "\n",
        "        print (\"\\nTotal number of solutions checked: \", solutionsChecked)\n",
        "        print (\"Best value found so far: \", f_best)\n",
        "\n",
        "print (\"\\nFinal number of solutions checked: \", solutionsChecked)\n",
        "print (\"Best value found: \", f_best[0])\n",
        "print (\"Weight is: \", f_best[1])\n",
        "print (\"Total number of items selected: \", np.sum(x_best))\n",
        "print (\"Best solution: \", x_best)"
      ],
      "metadata": {
        "id": "77Y-ssVNHEob"
      },
      "execution_count": null,
      "outputs": []
    },
    {
      "cell_type": "code",
      "source": [],
      "metadata": {
        "id": "AosC00kEIRRR"
      },
      "execution_count": null,
      "outputs": []
    }
  ]
}