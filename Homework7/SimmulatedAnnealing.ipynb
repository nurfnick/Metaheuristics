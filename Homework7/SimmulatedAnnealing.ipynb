{
  "nbformat": 4,
  "nbformat_minor": 0,
  "metadata": {
    "colab": {
      "provenance": [],
      "authorship_tag": "ABX9TyMOFUHHK2wZHLUn5qj5CaWo",
      "include_colab_link": true
    },
    "kernelspec": {
      "name": "python3",
      "display_name": "Python 3"
    },
    "language_info": {
      "name": "python"
    }
  },
  "cells": [
    {
      "cell_type": "markdown",
      "metadata": {
        "id": "view-in-github",
        "colab_type": "text"
      },
      "source": [
        "<a href=\"https://colab.research.google.com/github/nurfnick/Metaheuristics/blob/main/Homework7/SimmulatedAnnealing.ipynb\" target=\"_parent\"><img src=\"https://colab.research.google.com/assets/colab-badge.svg\" alt=\"Open In Colab\"/></a>"
      ]
    },
    {
      "cell_type": "markdown",
      "source": [
        "# Meta-Heuristics Homework 7 Simmulated Annealing"
      ],
      "metadata": {
        "id": "bVMsPZvFZxDD"
      }
    },
    {
      "cell_type": "code",
      "execution_count": 11,
      "metadata": {
        "id": "fdtgsVdFZwZl"
      },
      "outputs": [],
      "source": [
        "import copy\n",
        "from random import Random   #need this for the random number generation -- do not change\n",
        "import numpy as np\n"
      ]
    },
    {
      "cell_type": "code",
      "source": [
        "#to setup a random number generator, we will specify a \"seed\" value\n",
        "#need this for the random number generation -- do not change\n",
        "seed = 51132023\n",
        "myPRNG = Random(seed)\n",
        "\n",
        "#to get a random number between 0 and 1, use this:             myPRNG.random()\n",
        "#to get a random number between lwrBnd and upprBnd, use this:  myPRNG.uniform(lwrBnd,upprBnd)\n",
        "#to get a random integer between lwrBnd and upprBnd, use this: myPRNG.randint(lwrBnd,upprBnd)\n",
        "\n",
        "#number of elements in a solution\n",
        "n = 150\n",
        "\n",
        "#create an \"instance\" for the knapsack problem\n",
        "value = []\n",
        "for i in range(0,n):\n",
        "    value.append(round(myPRNG.triangular(5,1000,200),1))\n",
        "\n",
        "weights = []\n",
        "for i in range(0,n):\n",
        "    weights.append(round(myPRNG.triangular(10,200,60),1))\n",
        "\n",
        "#define max weight for the knapsack\n",
        "maxWeight = 2500\n"
      ],
      "metadata": {
        "id": "ekqO7lyYZ7gY"
      },
      "execution_count": 12,
      "outputs": []
    },
    {
      "cell_type": "code",
      "source": [
        "solutionsChecked = 0\n",
        "\n",
        "#function to evaluate a solution x\n",
        "def evaluate(x):\n",
        "\n",
        "    a=np.array(x)\n",
        "    b=np.array(value)\n",
        "    c=np.array(weights)\n",
        "\n",
        "    totalValue = np.dot(a,b)     #compute the value of the knapsack selection\n",
        "    totalWeight = np.dot(a,c)    #compute the weight value of the knapsack selection\n",
        "\n",
        "    if totalWeight > maxWeight:\n",
        "         #print (\"Oh no! The solution is infeasible!  What to do?  What to do?\")   #you will probably want to change this...\n",
        "         totalValue = -totalValue\n",
        "\n",
        "    return [totalValue, totalWeight]   #returns a list of both total value and total weight\n",
        "\n",
        "\n",
        "#here is a simple function to create a neighborhood\n",
        "#1-flip neighborhood of solution x\n",
        "def neighborhood(x):\n",
        "\n",
        "    nbrhood = []\n",
        "\n",
        "    for i in range(0,n):\n",
        "        nbrhood.append(x[:])\n",
        "        if nbrhood[i][i] == 1:\n",
        "            nbrhood[i][i] = 0\n",
        "        else:\n",
        "            nbrhood[i][i] = 1\n",
        "\n",
        "    return nbrhood\n",
        "#take all the 1's and 0's and slide them around, keeping the order.\n",
        "def neighborhood_slide(x):\n",
        "\n",
        "    nbrhood = []\n",
        "\n",
        "    for i in range(0,len(x)):\n",
        "        newlist = x[i+1:]\n",
        "        newlist.extend(x[:i+1])\n",
        "        nbrhood.append(newlist)\n",
        "    return nbrhood\n",
        "\n",
        "\n",
        "def neighborhood_slide_and_flip(x):\n",
        "  nbrhood = []\n",
        "\n",
        "  for i in neighborhood(x):\n",
        "    nbrhood.extend(neighborhood_slide(i))\n",
        "\n",
        "  return nbrhood\n",
        "\n",
        "\n",
        "#create the initial solution\n",
        "def initial_solution_zero():\n",
        "    x = []   #i recommend creating the solution as a list\n",
        "\n",
        "    for i in range(n):\n",
        "        x.append(0)\n",
        "\n",
        "    return x\n",
        "\n",
        "def initial_solution_random():\n",
        "  x = []\n",
        "\n",
        "  for i in range(n):\n",
        "    x.append(myPRNG.randint(0,1))\n",
        "\n",
        "  return x\n",
        "\n",
        "def initial_solution_random_start_feasible():\n",
        "  x = []\n",
        "\n",
        "  for i in range(n):\n",
        "    x.append(myPRNG.randint(0,1))\n",
        "\n",
        "  i = myPRNG.randint(0,n-1)\n",
        "  while evaluate(x)[1] > maxWeight:\n",
        "    x[i] = 0\n",
        "    i=myPRNG.randint(0,n-1)\n",
        "\n",
        "  return x\n",
        "#varaible to record the number of solutions evaluated\n",
        "solutionsChecked = 0\n",
        "\n",
        "x_curr = initial_solution_zero()  #x_curr will hold the current solution\n",
        "x_best = x_curr[:]           #x_best will hold the best solution\n",
        "f_curr = evaluate(x_curr)    #f_curr will hold the evaluation of the current soluton\n",
        "f_best = f_curr[:]\n"
      ],
      "metadata": {
        "id": "tLyPA36EaA5B"
      },
      "execution_count": 13,
      "outputs": []
    },
    {
      "cell_type": "markdown",
      "source": [
        "## Determine Initial Temp"
      ],
      "metadata": {
        "id": "WCOCSGZWEcKG"
      }
    },
    {
      "cell_type": "markdown",
      "source": [
        "From the notes:\n",
        "\n",
        "*If maximal difference in cost between neighboring solutions is\n",
        "known, initial temperature can be calculated so that increases of\n",
        "that magnitude are initially accepted with sufficiently large\n",
        "probability*\n",
        "\n",
        "For our example, we know that the max value is 1000.  An increase in our value by 1000 would be the best.  We start there for our initial temp."
      ],
      "metadata": {
        "id": "mI2N3LleOBBr"
      }
    },
    {
      "cell_type": "code",
      "source": [
        "def probability_assignment(x,T):\n",
        "  if x>0:\n",
        "    return 1\n",
        "  else:\n",
        "    return np.exp(x/T)"
      ],
      "metadata": {
        "id": "hkg7ijsHpKVB"
      },
      "execution_count": 14,
      "outputs": []
    },
    {
      "cell_type": "code",
      "source": [
        "T"
      ],
      "metadata": {
        "id": "XnXJ6JAYvQzN",
        "outputId": "203d829e-a23d-46d8-d5c8-4e4c6f0aacdc",
        "colab": {
          "base_uri": "https://localhost:8080/"
        }
      },
      "execution_count": 27,
      "outputs": [
        {
          "output_type": "execute_result",
          "data": {
            "text/plain": [
              "0.25572026969116246"
            ]
          },
          "metadata": {},
          "execution_count": 27
        }
      ]
    },
    {
      "cell_type": "code",
      "source": [
        "#begin local search overall logic ----------------\n",
        "x_curr = initial_solution_random_start_feasible()  #x_curr will hold the current solution\n",
        "x_best = x_curr[:]           #x_best will hold the best solution\n",
        "f_curr = evaluate(x_curr)    #f_curr will hold the evaluation of the current soluton\n",
        "f_best = f_curr[:]\n",
        "\n",
        "\n",
        "\n",
        "solutionsChecked = 0\n",
        "bettersolutionsfound = 0\n",
        "\n",
        "T = 1000\n",
        "\n",
        "for i in range(500):\n",
        "\n",
        "  for i in range(25):\n",
        "    Neighborhood = neighborhood(x_curr)   #create a list of all neighbors in the neighborhood of x_curr\n",
        "    probs = []\n",
        "\n",
        "    for s in Neighborhood:                #evaluate every member in the neighborhood of x_curr\n",
        "        probs.append(probability_assignment(evaluate(s)[0]-f_curr[0],T))\n",
        "        #solutionsChecked = solutionsChecked + 1\n",
        "        #if evaluate(s)[0] > f_curr[0]:#compare to current not best\n",
        "            #improvements.append(s[:])                 #add to list\n",
        "            #improvements.append(evaluate(s)[:])       #and store its evaluation\n",
        "    if sum(probs)<1:\n",
        "      break\n",
        "    else:\n",
        "      x_curr = myPRNG.choices(Neighborhood,probs,k=1)[0]\n",
        "      f_curr = evaluate(x_curr)\n",
        "      solutionsChecked += 1\n",
        "\n",
        "    if f_curr[0]>f_best[0]:\n",
        "      x_best = x_curr[:]\n",
        "      f_best = f_curr[:]\n",
        "      bettersolutionsfound +=1\n",
        "\n",
        "\n",
        "  T = 0.99*T\n",
        "\n",
        "print (\"\\nFinal number of solutions checked: \", solutionsChecked)\n",
        "print (\"Best value found: \", f_curr[0])\n",
        "print (\"Weight is: \", f_curr[1])\n",
        "print (\"Total number of items selected: \", np.sum(x_curr))\n",
        "print (\"Best solution: \", x_curr)"
      ],
      "metadata": {
        "id": "e4LR64PBiH4M",
        "outputId": "913da95b-2dcc-4b58-89e5-788cc5348515",
        "colab": {
          "base_uri": "https://localhost:8080/"
        }
      },
      "execution_count": 41,
      "outputs": [
        {
          "output_type": "stream",
          "name": "stdout",
          "text": [
            "\n",
            "Final number of solutions checked:  5508\n",
            "Best value found:  23240.8\n",
            "Weight is:  2478.0\n",
            "Total number of items selected:  44\n",
            "Best solution:  [0, 1, 0, 1, 0, 1, 0, 0, 0, 1, 1, 0, 0, 0, 0, 0, 1, 0, 0, 0, 0, 1, 0, 0, 1, 1, 0, 0, 0, 1, 0, 0, 0, 0, 0, 0, 1, 1, 0, 0, 0, 1, 0, 0, 0, 0, 1, 1, 0, 0, 0, 0, 0, 0, 1, 0, 1, 0, 1, 1, 1, 1, 0, 0, 0, 0, 0, 1, 1, 0, 0, 0, 0, 0, 1, 1, 0, 1, 0, 0, 1, 1, 1, 0, 0, 0, 1, 0, 0, 0, 0, 0, 0, 0, 0, 0, 0, 1, 0, 1, 0, 0, 0, 0, 0, 0, 0, 0, 0, 0, 0, 0, 0, 0, 0, 1, 1, 1, 0, 1, 0, 0, 1, 0, 1, 0, 0, 1, 0, 0, 0, 0, 0, 0, 0, 0, 1, 0, 0, 0, 0, 1, 0, 0, 0, 1, 1, 0, 0, 1]\n"
          ]
        }
      ]
    },
    {
      "cell_type": "code",
      "source": [
        "T"
      ],
      "metadata": {
        "id": "0tBaxwh9vBGy",
        "outputId": "b42ca76e-d61a-4208-ab94-25214542d958",
        "colab": {
          "base_uri": "https://localhost:8080/"
        }
      },
      "execution_count": 40,
      "outputs": [
        {
          "output_type": "execute_result",
          "data": {
            "text/plain": [
              "6.570483042414598"
            ]
          },
          "metadata": {},
          "execution_count": 40
        }
      ]
    },
    {
      "cell_type": "code",
      "source": [
        "print (\"\\nFinal number of solutions checked: \", solutionsChecked)\n",
        "print (\"Best value found: \", f_curr[0])\n",
        "print (\"Weight is: \", f_curr[1])\n",
        "print (\"Total number of items selected: \", np.sum(x_curr))\n",
        "print (\"Best solution: \", x_curr)"
      ],
      "metadata": {
        "id": "SLYwccMIuPhQ",
        "outputId": "ccc1959f-1fa6-4bed-fe6a-acb3069e974e",
        "colab": {
          "base_uri": "https://localhost:8080/"
        }
      },
      "execution_count": 26,
      "outputs": [
        {
          "output_type": "stream",
          "name": "stdout",
          "text": [
            "\n",
            "Final number of solutions checked:  8230\n",
            "Best value found:  24718.400000000005\n",
            "Weight is:  2496.9\n",
            "Total number of items selected:  45\n",
            "Best solution:  [0, 1, 0, 0, 0, 1, 0, 0, 0, 1, 1, 0, 0, 1, 0, 0, 0, 0, 0, 0, 0, 0, 0, 0, 1, 0, 1, 0, 0, 1, 1, 0, 0, 1, 0, 0, 1, 1, 0, 1, 0, 1, 0, 0, 0, 0, 0, 1, 0, 0, 0, 0, 0, 0, 1, 0, 0, 0, 1, 1, 1, 1, 0, 0, 0, 1, 0, 0, 1, 0, 0, 0, 0, 0, 1, 1, 1, 1, 0, 0, 1, 1, 0, 0, 0, 0, 1, 0, 0, 0, 0, 0, 0, 0, 0, 0, 0, 0, 1, 1, 0, 0, 1, 0, 0, 0, 0, 0, 0, 0, 1, 0, 1, 0, 0, 0, 1, 1, 0, 0, 0, 1, 1, 0, 1, 0, 0, 1, 0, 0, 0, 0, 0, 0, 0, 0, 1, 0, 0, 0, 0, 0, 1, 0, 0, 1, 1, 0, 0, 1]\n"
          ]
        }
      ]
    },
    {
      "cell_type": "code",
      "source": [
        "#begin local search overall logic ----------------\n",
        "x_curr = initial_solution_random_start_feasible()  #x_curr will hold the current solution\n",
        "x_best = x_curr[:]           #x_best will hold the best solution\n",
        "f_curr = evaluate(x_curr)    #f_curr will hold the evaluation of the current soluton\n",
        "f_best = f_curr[:]\n",
        "\n",
        "\n",
        "\n",
        "solutionsChecked = 0\n",
        "bettersolutionsfound = 0\n",
        "\n",
        "T = 1500\n",
        "\n",
        "for i in range(1000):\n",
        "\n",
        "  for i in range(5):\n",
        "    Neighborhood = neighborhood(x_curr)   #create a list of all neighbors in the neighborhood of x_curr\n",
        "    p = 0\n",
        "    howLongInWhile = 0\n",
        "    while p ==0:\n",
        "      solutionsChecked += 1\n",
        "      howLongInWhile +=1\n",
        "      apval = myPRNG.random()\n",
        "      s = Neighborhood[myPRNG.randint(0,len(Neighborhood)-1)]\n",
        "      if evaluate(s)[0]>f_curr[0]:\n",
        "        x_curr = s[:]\n",
        "        f_curr = evaluate(s)[:]\n",
        "        p =1\n",
        "      elif probability_assignment(evaluate(s)[0]-f_curr[0],T)>apval :\n",
        "        x_curr = s[:]\n",
        "        f_curr = evaluate(s)[:]\n",
        "        p=1\n",
        "      elif howLongInWhile >50:\n",
        "        break\n",
        "\n",
        "  T = 0.99*T\n",
        "\n",
        "print (\"\\nFinal number of solutions checked: \", solutionsChecked)\n",
        "print (\"Best value found: \", f_curr[0])\n",
        "print (\"Weight is: \", f_curr[1])\n",
        "print (\"Total number of items selected: \", np.sum(x_curr))\n",
        "print (\"Best solution: \", x_curr)"
      ],
      "metadata": {
        "id": "77Y-ssVNHEob",
        "outputId": "b9578b48-c197-4eb8-d71b-faabccca8fe8",
        "colab": {
          "base_uri": "https://localhost:8080/"
        }
      },
      "execution_count": 48,
      "outputs": [
        {
          "output_type": "stream",
          "name": "stdout",
          "text": [
            "\n",
            "Final number of solutions checked:  197642\n",
            "Best value found:  23030.2\n",
            "Weight is:  2493.6000000000004\n",
            "Total number of items selected:  41\n",
            "Best solution:  [1, 1, 0, 0, 0, 1, 0, 0, 0, 1, 1, 0, 0, 1, 0, 0, 0, 1, 0, 0, 0, 0, 0, 0, 1, 0, 1, 0, 0, 1, 1, 0, 0, 0, 0, 0, 1, 1, 0, 0, 0, 0, 0, 0, 0, 0, 1, 0, 0, 0, 0, 0, 0, 0, 1, 0, 1, 0, 1, 1, 1, 0, 0, 0, 0, 0, 0, 0, 1, 0, 0, 0, 0, 0, 1, 0, 0, 1, 0, 0, 0, 1, 0, 0, 0, 0, 1, 0, 0, 1, 0, 0, 0, 0, 0, 0, 0, 0, 0, 1, 0, 1, 1, 0, 0, 0, 0, 0, 1, 0, 1, 0, 1, 0, 0, 0, 1, 1, 0, 1, 0, 0, 1, 0, 1, 0, 0, 1, 0, 0, 0, 0, 0, 0, 0, 0, 1, 0, 0, 0, 0, 0, 1, 0, 0, 1, 0, 1, 0, 0]\n"
          ]
        }
      ]
    },
    {
      "cell_type": "code",
      "source": [
        "print (\"\\nFinal number of solutions checked: \", solutionsChecked)\n",
        "print (\"Best value found: \", f_curr[0])\n",
        "print (\"Weight is: \", f_curr[1])\n",
        "print (\"Total number of items selected: \", np.sum(x_curr))\n",
        "print (\"Best solution: \", x_curr)"
      ],
      "metadata": {
        "id": "AosC00kEIRRR",
        "outputId": "0ef4e5b9-64ad-40ad-8fec-ad3d6920fcf0",
        "colab": {
          "base_uri": "https://localhost:8080/"
        }
      },
      "execution_count": 45,
      "outputs": [
        {
          "output_type": "stream",
          "name": "stdout",
          "text": [
            "\n",
            "Final number of solutions checked:  1741124\n",
            "Best value found:  24137.400000000005\n",
            "Weight is:  2499.9000000000005\n",
            "Total number of items selected:  44\n",
            "Best solution:  [0, 1, 0, 0, 0, 0, 0, 0, 0, 1, 1, 0, 1, 1, 0, 0, 0, 0, 0, 0, 0, 0, 0, 0, 1, 0, 1, 0, 0, 1, 0, 0, 0, 0, 0, 0, 1, 1, 0, 1, 0, 0, 0, 0, 0, 0, 1, 0, 0, 0, 0, 0, 0, 0, 1, 0, 1, 1, 1, 1, 1, 1, 0, 0, 0, 1, 1, 0, 1, 0, 0, 0, 0, 0, 1, 1, 0, 1, 0, 0, 1, 0, 0, 0, 0, 0, 1, 0, 0, 1, 0, 0, 0, 0, 0, 0, 1, 0, 1, 1, 0, 1, 0, 0, 0, 0, 0, 0, 0, 0, 1, 0, 1, 0, 0, 0, 0, 1, 0, 1, 0, 0, 1, 0, 1, 0, 0, 1, 0, 0, 0, 0, 0, 0, 0, 0, 1, 0, 1, 0, 0, 0, 0, 0, 0, 1, 1, 0, 0, 1]\n"
          ]
        }
      ]
    },
    {
      "cell_type": "code",
      "source": [],
      "metadata": {
        "id": "RnbVvmq2rcgn"
      },
      "execution_count": null,
      "outputs": []
    }
  ]
}