{
  "nbformat": 4,
  "nbformat_minor": 0,
  "metadata": {
    "colab": {
      "provenance": [],
      "authorship_tag": "ABX9TyNnGGSrQg8m1EHiAEoFCTFo",
      "include_colab_link": true
    },
    "kernelspec": {
      "name": "python3",
      "display_name": "Python 3"
    },
    "language_info": {
      "name": "python"
    }
  },
  "cells": [
    {
      "cell_type": "markdown",
      "metadata": {
        "id": "view-in-github",
        "colab_type": "text"
      },
      "source": [
        "<a href=\"https://colab.research.google.com/github/nurfnick/Metaheuristics/blob/main/Homework7/SimmulatedAnnealing.ipynb\" target=\"_parent\"><img src=\"https://colab.research.google.com/assets/colab-badge.svg\" alt=\"Open In Colab\"/></a>"
      ]
    },
    {
      "cell_type": "markdown",
      "source": [
        "# Meta-Heuristics Homework 7 Simmulated Annealing"
      ],
      "metadata": {
        "id": "bVMsPZvFZxDD"
      }
    },
    {
      "cell_type": "code",
      "execution_count": 1,
      "metadata": {
        "id": "fdtgsVdFZwZl"
      },
      "outputs": [],
      "source": [
        "import copy\n",
        "from random import Random   #need this for the random number generation -- do not change\n",
        "import numpy as np\n"
      ]
    },
    {
      "cell_type": "code",
      "source": [
        "#to setup a random number generator, we will specify a \"seed\" value\n",
        "#need this for the random number generation -- do not change\n",
        "seed = 51132023\n",
        "myPRNG = Random(seed)\n",
        "\n",
        "#to get a random number between 0 and 1, use this:             myPRNG.random()\n",
        "#to get a random number between lwrBnd and upprBnd, use this:  myPRNG.uniform(lwrBnd,upprBnd)\n",
        "#to get a random integer between lwrBnd and upprBnd, use this: myPRNG.randint(lwrBnd,upprBnd)\n",
        "\n",
        "#number of elements in a solution\n",
        "n = 150\n",
        "\n",
        "#create an \"instance\" for the knapsack problem\n",
        "value = []\n",
        "for i in range(0,n):\n",
        "    value.append(round(myPRNG.triangular(5,1000,200),1))\n",
        "\n",
        "weights = []\n",
        "for i in range(0,n):\n",
        "    weights.append(round(myPRNG.triangular(10,200,60),1))\n",
        "\n",
        "#define max weight for the knapsack\n",
        "maxWeight = 2500\n"
      ],
      "metadata": {
        "id": "ekqO7lyYZ7gY"
      },
      "execution_count": 2,
      "outputs": []
    },
    {
      "cell_type": "code",
      "source": [
        "solutionsChecked = 0\n",
        "\n",
        "#function to evaluate a solution x\n",
        "def evaluate(x):\n",
        "\n",
        "    a=np.array(x)\n",
        "    b=np.array(value)\n",
        "    c=np.array(weights)\n",
        "\n",
        "    totalValue = np.dot(a,b)     #compute the value of the knapsack selection\n",
        "    totalWeight = np.dot(a,c)    #compute the weight value of the knapsack selection\n",
        "\n",
        "    if totalWeight > maxWeight:\n",
        "         #print (\"Oh no! The solution is infeasible!  What to do?  What to do?\")   #you will probably want to change this...\n",
        "         totalValue = totalValue - 500*(totalWeight - maxWeight)\n",
        "\n",
        "    return [totalValue, totalWeight]   #returns a list of both total value and total weight\n",
        "\n",
        "\n",
        "#here is a simple function to create a neighborhood\n",
        "#1-flip neighborhood of solution x\n",
        "def neighborhood(x):\n",
        "\n",
        "    nbrhood = []\n",
        "\n",
        "    for i in range(0,n):\n",
        "        nbrhood.append(x[:])\n",
        "        if nbrhood[i][i] == 1:\n",
        "            nbrhood[i][i] = 0\n",
        "        else:\n",
        "            nbrhood[i][i] = 1\n",
        "\n",
        "    return nbrhood\n",
        "#take all the 1's and 0's and slide them around, keeping the order.\n",
        "def neighborhood_slide(x):\n",
        "\n",
        "    nbrhood = []\n",
        "\n",
        "    for i in range(0,len(x)):\n",
        "        newlist = x[i+1:]\n",
        "        newlist.extend(x[:i+1])\n",
        "        nbrhood.append(newlist)\n",
        "    return nbrhood\n",
        "\n",
        "\n",
        "def neighborhood_slide_and_flip(x):\n",
        "  nbrhood = []\n",
        "\n",
        "  for i in neighborhood(x):\n",
        "    nbrhood.extend(neighborhood_slide(i))\n",
        "\n",
        "  return nbrhood\n",
        "\n",
        "\n",
        "#create the initial solution\n",
        "def initial_solution_zero():\n",
        "    x = []   #i recommend creating the solution as a list\n",
        "\n",
        "    for i in range(n):\n",
        "        x.append(0)\n",
        "\n",
        "    return x\n",
        "\n",
        "def initial_solution_random():\n",
        "  x = []\n",
        "\n",
        "  for i in range(n):\n",
        "    x.append(myPRNG.randint(0,1))\n",
        "\n",
        "  return x\n",
        "\n",
        "def initial_solution_random_start_feasible():\n",
        "  x = []\n",
        "\n",
        "  for i in range(n):\n",
        "    x.append(myPRNG.randint(0,1))\n",
        "\n",
        "  i = myPRNG.randint(0,n-1)\n",
        "  while evaluate(x)[1] > maxWeight:\n",
        "    x[i] = 0\n",
        "    i=myPRNG.randint(0,n-1)\n",
        "\n",
        "  return x\n",
        "#varaible to record the number of solutions evaluated\n",
        "solutionsChecked = 0\n",
        "\n",
        "x_curr = initial_solution_zero()  #x_curr will hold the current solution\n",
        "x_best = x_curr[:]           #x_best will hold the best solution\n",
        "f_curr = evaluate(x_curr)    #f_curr will hold the evaluation of the current soluton\n",
        "f_best = f_curr[:]\n"
      ],
      "metadata": {
        "id": "tLyPA36EaA5B"
      },
      "execution_count": 7,
      "outputs": []
    },
    {
      "cell_type": "code",
      "source": [
        "def probability_assignment(x,T):\n",
        "  if x>0:\n",
        "    return 1\n",
        "  else:\n",
        "    return np.exp(x/T)"
      ],
      "metadata": {
        "id": "hkg7ijsHpKVB"
      },
      "execution_count": 4,
      "outputs": []
    },
    {
      "cell_type": "code",
      "source": [],
      "metadata": {
        "id": "TcgFHK4HU4-6"
      },
      "execution_count": null,
      "outputs": []
    },
    {
      "cell_type": "markdown",
      "source": [
        "## Exponential Cooling"
      ],
      "metadata": {
        "id": "5rvPRARuU5nF"
      }
    },
    {
      "cell_type": "code",
      "source": [
        "#begin local search overall logic ----------------\n",
        "x_curr = initial_solution_random_start_feasible()  #x_curr will hold the current solution\n",
        "x_best = x_curr[:]           #x_best will hold the best solution\n",
        "f_curr = evaluate(x_curr)    #f_curr will hold the evaluation of the current soluton\n",
        "f_best = f_curr[:]\n",
        "\n",
        "\n",
        "\n",
        "solutionsChecked = 0\n",
        "bettersolutionsfound = 0\n",
        "failedToExit = 0\n",
        "\n",
        "T = 10000\n",
        "\n",
        "for j in range(500):\n",
        "\n",
        "  for i in range(100):\n",
        "    Neighborhood = neighborhood(x_curr)   #create a list of all neighbors in the neighborhood of x_curr\n",
        "    p = 0\n",
        "    howLongInWhile = 0 #need to check I don't get stuck in next while too long\n",
        "    while p ==0: #getting new value allows for a break out of here\n",
        "      solutionsChecked += 1\n",
        "      howLongInWhile +=1\n",
        "      apval = myPRNG.random() #ranomd value to compare to\n",
        "      s = Neighborhood[myPRNG.randint(0,len(Neighborhood)-1)] #one random neighbor\n",
        "      if evaluate(s)[0]>f_curr[0]: #better solution then current\n",
        "        x_curr = s[:]\n",
        "        f_curr = evaluate(s)[:]\n",
        "        p =1\n",
        "      elif probability_assignment(evaluate(s)[0]-f_curr[0],T)>apval : #worse solution so see if you should use it randomly\n",
        "        x_curr = s[:]\n",
        "        f_curr = evaluate(s)[:]\n",
        "        p=1\n",
        "      elif howLongInWhile >150: #a way out of this while\n",
        "        failedToExit +=1\n",
        "        break\n",
        "  if failedToExit > 1000: #a way out of the last while\n",
        "    break\n",
        "\n",
        "\n",
        "  T = 0.99*T #exponential cooling\n",
        "\n",
        "print (\"\\nFinal number of solutions checked: \", solutionsChecked)\n",
        "print (\"Best value found: \", f_curr[0])\n",
        "print (\"Weight is: \", f_curr[1])\n",
        "print (\"Total number of items selected: \", np.sum(x_curr))\n",
        "print (\"Best solution: \", x_curr)"
      ],
      "metadata": {
        "id": "e4LR64PBiH4M",
        "colab": {
          "base_uri": "https://localhost:8080/"
        },
        "outputId": "11fb05a1-5533-4836-e607-8dc75eefc237"
      },
      "execution_count": 5,
      "outputs": [
        {
          "output_type": "stream",
          "name": "stdout",
          "text": [
            "\n",
            "Final number of solutions checked:  500448\n",
            "Best value found:  23704.500000000004\n",
            "Weight is:  2452.4\n",
            "Total number of items selected:  42\n",
            "Best solution:  [0, 1, 0, 0, 0, 0, 0, 0, 0, 1, 1, 0, 1, 1, 1, 0, 0, 0, 0, 0, 0, 0, 0, 1, 0, 0, 1, 0, 0, 1, 0, 1, 0, 0, 0, 0, 1, 1, 0, 0, 0, 0, 0, 1, 0, 0, 1, 1, 1, 0, 0, 0, 0, 0, 1, 0, 0, 1, 1, 1, 0, 0, 0, 0, 0, 0, 0, 0, 0, 0, 0, 0, 0, 0, 1, 1, 0, 1, 0, 0, 1, 1, 0, 0, 0, 0, 1, 0, 0, 0, 0, 0, 0, 0, 0, 0, 1, 0, 1, 1, 0, 0, 1, 0, 0, 0, 0, 0, 0, 0, 1, 0, 0, 0, 0, 0, 0, 1, 0, 0, 0, 0, 0, 0, 1, 0, 0, 1, 0, 0, 0, 0, 0, 0, 0, 0, 1, 1, 1, 0, 0, 0, 1, 0, 1, 1, 1, 0, 0, 1]\n"
          ]
        }
      ]
    },
    {
      "cell_type": "markdown",
      "source": [
        "# Cauchy Cooling"
      ],
      "metadata": {
        "id": "BaWG6u2qU0Zs"
      }
    },
    {
      "cell_type": "code",
      "source": [
        "#begin local search overall logic ----------------\n",
        "x_curr = initial_solution_random_start_feasible()  #x_curr will hold the current solution\n",
        "x_best = x_curr[:]           #x_best will hold the best solution\n",
        "f_curr = evaluate(x_curr)    #f_curr will hold the evaluation of the current soluton\n",
        "f_best = f_curr[:]\n",
        "\n",
        "\n",
        "\n",
        "solutionsChecked = 0\n",
        "failedToExit = 0\n",
        "\n",
        "\n",
        "T0 = 10000\n",
        "T = T0\n",
        "\n",
        "for j in range(1000):\n",
        "\n",
        "  for i in range(100):\n",
        "    Neighborhood = neighborhood(x_curr)   #create a list of all neighbors in the neighborhood of x_curr\n",
        "    p = 0\n",
        "    howLongInWhile = 0\n",
        "    while p ==0:\n",
        "      solutionsChecked += 1\n",
        "      howLongInWhile +=1\n",
        "      apval = myPRNG.random()\n",
        "      s = Neighborhood[myPRNG.randint(0,len(Neighborhood)-1)]\n",
        "      if evaluate(s)[0]>f_curr[0]:\n",
        "        x_curr = s[:]\n",
        "        f_curr = evaluate(s)[:]\n",
        "        p =1\n",
        "      elif probability_assignment(evaluate(s)[0]-f_curr[0],T)>apval :\n",
        "        x_curr = s[:]\n",
        "        f_curr = evaluate(s)[:]\n",
        "        p=1\n",
        "      elif howLongInWhile >150:\n",
        "        failedToExit +=1\n",
        "        break\n",
        "  if failedToExit > 1000:\n",
        "    break\n",
        "\n",
        "\n",
        "  T = T0/(1+j)\n",
        "\n",
        "print (\"\\nFinal number of solutions checked: \", solutionsChecked)\n",
        "print (\"Best value found: \", f_curr[0])\n",
        "print (\"Weight is: \", f_curr[1])\n",
        "print (\"Total number of items selected: \", np.sum(x_curr))\n",
        "print (\"Best solution: \", x_curr)"
      ],
      "metadata": {
        "id": "77Y-ssVNHEob",
        "colab": {
          "base_uri": "https://localhost:8080/"
        },
        "outputId": "053e94d0-a59f-4d4a-f1c7-e8faa4fa9318"
      },
      "execution_count": 8,
      "outputs": [
        {
          "output_type": "stream",
          "name": "stdout",
          "text": [
            "\n",
            "Final number of solutions checked:  363743\n",
            "Best value found:  23288.700000000004\n",
            "Weight is:  2464.4000000000005\n",
            "Total number of items selected:  42\n",
            "Best solution:  [0, 0, 0, 0, 0, 1, 0, 0, 0, 1, 1, 0, 0, 0, 1, 0, 0, 1, 0, 0, 0, 0, 0, 0, 1, 0, 1, 1, 0, 1, 0, 0, 0, 0, 0, 0, 1, 1, 0, 1, 0, 0, 0, 0, 0, 0, 0, 1, 0, 0, 1, 0, 0, 0, 1, 0, 0, 0, 1, 1, 1, 0, 0, 0, 0, 1, 1, 0, 1, 0, 0, 0, 0, 1, 1, 1, 0, 1, 0, 0, 0, 1, 0, 0, 0, 0, 1, 0, 0, 0, 0, 0, 0, 0, 0, 0, 0, 0, 1, 1, 0, 1, 1, 0, 0, 0, 0, 0, 0, 0, 1, 0, 0, 0, 0, 0, 0, 1, 0, 0, 0, 0, 1, 0, 1, 0, 0, 1, 0, 0, 0, 0, 0, 0, 0, 0, 0, 1, 1, 0, 0, 0, 1, 1, 0, 0, 0, 1, 0, 1]\n"
          ]
        }
      ]
    },
    {
      "cell_type": "code",
      "source": [],
      "metadata": {
        "id": "RnbVvmq2rcgn"
      },
      "execution_count": null,
      "outputs": []
    }
  ]
}