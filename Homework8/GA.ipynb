{
  "nbformat": 4,
  "nbformat_minor": 0,
  "metadata": {
    "colab": {
      "provenance": [],
      "authorship_tag": "ABX9TyNRW9E75RblXpm5OcrV61K5",
      "include_colab_link": true
    },
    "kernelspec": {
      "name": "python3",
      "display_name": "Python 3"
    },
    "language_info": {
      "name": "python"
    }
  },
  "cells": [
    {
      "cell_type": "markdown",
      "metadata": {
        "id": "view-in-github",
        "colab_type": "text"
      },
      "source": [
        "<a href=\"https://colab.research.google.com/github/nurfnick/Metaheuristics/blob/main/Homework8/GA.ipynb\" target=\"_parent\"><img src=\"https://colab.research.google.com/assets/colab-badge.svg\" alt=\"Open In Colab\"/></a>"
      ]
    },
    {
      "cell_type": "code",
      "source": [
        "#basic genetic algorithm Python code provided as base code for the DSA/ISE 5113 course\n",
        "#author: Charles Nicholson\n",
        "#date: 4/5/2019\n",
        "\n",
        "\n",
        "\n",
        "#------------------------------------------------------------------------------\n",
        "\n",
        "#Student name:\n",
        "#Date:\n",
        "\n",
        "\n",
        "#need some python libraries\n",
        "import copy\n",
        "import math\n",
        "from random import Random\n",
        "import numpy as np\n",
        "\n",
        "\n",
        "\n",
        "#to setup a random number generator, we will specify a \"seed\" value\n",
        "#need this for the random number generation -- do not change\n",
        "seed = 51132023\n",
        "myPRNG = Random(seed)\n",
        "\n",
        "#to get a random number between 0 and 1, use this:             myPRNG.random()\n",
        "#to get a random number between lwrBnd and upprBnd, use this:  myPRNG.uniform(lwrBnd,upprBnd)\n",
        "#to get a random integer between lwrBnd and upprBnd, use this: myPRNG.randint(lwrBnd,upprBnd)\n",
        "\n",
        "#number of dimensions in a solution\n",
        "n = 2\n",
        "\n",
        "#create the function to evaluate against\n",
        "\n",
        "def evaluate(x):\n",
        "  s = 0\n",
        "  for i in x:\n",
        "    s+=418.982887272433 - i*np.sin(np.sqrt(abs(i)))\n",
        "\n",
        "  return s"
      ],
      "metadata": {
        "id": "26OLLbiuFZUD"
      },
      "execution_count": 41,
      "outputs": []
    },
    {
      "cell_type": "code",
      "source": [
        "evaluate([420.9687,420.9687])"
      ],
      "metadata": {
        "colab": {
          "base_uri": "https://localhost:8080/"
        },
        "id": "2SnKeAulFcDb",
        "outputId": "7d9b80e2-44cb-4cdf-9ba5-2e1ffadd504f"
      },
      "execution_count": 42,
      "outputs": [
        {
          "output_type": "execute_result",
          "data": {
            "text/plain": [
              "5.410356607171707e-10"
            ]
          },
          "metadata": {},
          "execution_count": 42
        }
      ]
    },
    {
      "cell_type": "code",
      "source": [
        "#create an continuous valued chromosome\n",
        "def createChromosome(n):\n",
        "    #this code as-is expects chromosomes to be stored as a list, e.g., x = []\n",
        "    #write code to generate chromosomes, most likely want this to be randomly generated\n",
        "\n",
        "    x = []   #i recommend creating the solution as a list\n",
        "    for i in range(n):\n",
        "      x.append(myPRNG.uniform(-500,500))\n",
        "    return x\n",
        "\n",
        "\n",
        "populationSize = 10 #size of GA population\n",
        "\n",
        "\n",
        "#create initial population by calling the \"createChromosome\" function many times and adding each to a list of chromosomes (a.k.a., the \"population\")\n",
        "def initializePopulation(): #n is size of population; d is dimensions of chromosome\n",
        "\n",
        "    population = []\n",
        "    populationFitness = []\n",
        "\n",
        "    for i in range(populationSize):\n",
        "        population.append(createChromosome(n))\n",
        "        populationFitness.append(evaluate(population[i]))\n",
        "\n",
        "    tempZip = zip(population, populationFitness)\n",
        "    popVals = sorted(tempZip, key=lambda tempZip: tempZip[1], reverse = False)\n",
        "\n",
        "    #the return object is a reversed sorted list of tuples:\n",
        "    #the first element of the tuple is the chromosome; the second element is the fitness value\n",
        "    #for example:  popVals[0] is represents the best individual in the population\n",
        "    #popVals[0] for a 2D problem might be  ([-70.2, 426.1], 483.3)  -- chromosome is the list [-70.2, 426.1] and the fitness is 483.3\n",
        "\n",
        "    return popVals"
      ],
      "metadata": {
        "id": "ESLFVICxG9Qk"
      },
      "execution_count": 38,
      "outputs": []
    },
    {
      "cell_type": "code",
      "source": [
        "pop = initializePopulation()\n",
        "\n",
        "pop"
      ],
      "metadata": {
        "colab": {
          "base_uri": "https://localhost:8080/"
        },
        "id": "C0PY_zLWG-1Q",
        "outputId": "e2e8ba98-28dc-4415-ced8-192539db2532"
      },
      "execution_count": 12,
      "outputs": [
        {
          "output_type": "execute_result",
          "data": {
            "text/plain": [
              "[([446.14353105779264, 250.54704019124802], 527.4133728145813),\n",
              " ([-149.55511712002232, 457.5069782750403], 529.5175755072069),\n",
              " ([341.5798881575133, 401.7493665558342], 587.1606585151048),\n",
              " ([221.67542833548737, 98.15809607258109], 721.5727168785847),\n",
              " ([235.9259771456252, 88.35921480816262], 755.2998456833657),\n",
              " ([-159.75914916703096, 252.72064983338123], 897.1888728390384),\n",
              " ([-62.253387400501026, -159.54732439472906], 910.5154124016872),\n",
              " ([-424.9087346323346, -132.76709292353138], 1140.227575574424)]"
            ]
          },
          "metadata": {},
          "execution_count": 12
        }
      ]
    },
    {
      "cell_type": "code",
      "source": [
        "crossOverRate = 0.8\n",
        "\n",
        "#implement a crossover\n",
        "def crossover(x1,x2):\n",
        "  p = myPRNG.random()\n",
        "  if crossOverRate>p:\n",
        "    z = myPRNG.randint(1,n-1)\n",
        "    offspring1 = x1[:z] + x2[z:]\n",
        "    offspring2 = x2[:z] + x1[z:]\n",
        "\n",
        "\n",
        "  else:\n",
        "    offspring1 = x1[:]\n",
        "    offspring2 = x2[:]\n",
        "\n",
        "        #with some probability (i.e., crossoverRate) perform breeding via crossover,\n",
        "        #i.e. two parents (x1 and x2) should produce two offsrping (offspring1 and offspring2)\n",
        "        # --- the first part of offspring1 comes from x1, and the second part of offspring1 comes from x2\n",
        "        # --- the first part of offspring2 comes from x2, and the second part of offspring2 comes from x1\n",
        "\n",
        "        #if no breeding occurs, then offspring1 and offspring2 can simply be copies of x1 and x2, respectively\n",
        "\n",
        "\n",
        "\n",
        "  return offspring1, offspring2  #two offspring are returned\n",
        "\n",
        "child1, child2 = crossover(pop[0][0],pop[1][0])\n",
        "\n",
        "evaluate(child1)"
      ],
      "metadata": {
        "colab": {
          "base_uri": "https://localhost:8080/"
        },
        "id": "ylKte0suIux4",
        "outputId": "f5600df1-edfa-4689-b10f-87cbeea3afe2"
      },
      "execution_count": 31,
      "outputs": [
        {
          "output_type": "execute_result",
          "data": {
            "text/plain": [
              "238.25919031028036"
            ]
          },
          "metadata": {},
          "execution_count": 31
        }
      ]
    },
    {
      "cell_type": "code",
      "execution_count": 33,
      "metadata": {
        "id": "E5M81SgLEU7T"
      },
      "outputs": [],
      "source": [
        "\n",
        "\n",
        "\n",
        "#change anything you like below this line, but keep the gist of the program ------------------------------------\n",
        "\n",
        "#monitor the number of solutions evaluated\n",
        "solutionsChecked = 0\n",
        "\n",
        "\n",
        "\n",
        "Generations = 100   #number of GA generations\n",
        "\n",
        "crossOverRate = 0.8  #currently not used in the implementation; neeeds to be used.\n",
        "mutationRate = 0.05  #currently not used in the implementation; neeeds to be used.\n",
        "eliteSolutions = 3  #currently not used in the implementation; neeed to use some type of elitism\n",
        "\n",
        "\n",
        "\n",
        "\n",
        "\n",
        "\n",
        "\n",
        "\n",
        "\n",
        "\n",
        "#performs tournament selection; k chromosomes are selected (with repeats allowed) and the best advances to the mating pool\n",
        "#function returns the mating pool with size equal to the initial population\n",
        "def tournamentSelection(pop,k):\n",
        "\n",
        "    #randomly select k chromosomes; the best joins the mating pool\n",
        "    matingPool = []\n",
        "\n",
        "    while len(matingPool)<populationSize:\n",
        "\n",
        "        ids = [myPRNG.randint(0,populationSize-1) for i in range(k)]\n",
        "        competingIndividuals = [pop[i][1] for i in ids]\n",
        "        bestID=ids[competingIndividuals.index(max(competingIndividuals))]\n",
        "        matingPool.append(pop[bestID][0])\n",
        "\n",
        "    return matingPool\n",
        "\n",
        "\n",
        "def rouletteWheel(pop):\n",
        "\n",
        "    matingPool = [] #initialize an empty array\n",
        "    rank = [i/(len(pop)*(len(pop)+1)/2) for i in range(len(pop),0,-1)] #get a probability based on rank\n",
        "    cumrank = np.cumsum(rank) #needed cummulative probability of those ranks.\n",
        "\n",
        "    while len(matingPool)<populationSize: #fill up the whole mating pool\n",
        "      p = myPRNG.random() #get a rando between 0 and 1\n",
        "      i = 0 #start with the most likely\n",
        "      while p>cumrank[i]: #grab the random int when finally surpass the p value\n",
        "        i+=1\n",
        "      matingPool.append(pop[i]) #add it into the pool\n",
        "\n",
        "\n",
        "    return matingPool\n",
        "\n",
        "\n",
        "#function to mutate solutions\n",
        "def mutate(x):\n",
        "\n",
        "    #create some mutation logic  -- make sure to incorporate \"mutationRate\" somewhere and dont' do TOO much mutation\n",
        "\n",
        "    return x\n",
        "\n",
        "\n",
        "\n",
        "\n"
      ]
    },
    {
      "cell_type": "code",
      "source": [
        "rouletteWheel(pop)"
      ],
      "metadata": {
        "id": "FEeSCCBxQtDW",
        "outputId": "6082fcfd-9fb9-4afd-fa63-dc40536ad245",
        "colab": {
          "base_uri": "https://localhost:8080/"
        }
      },
      "execution_count": 19,
      "outputs": [
        {
          "output_type": "execute_result",
          "data": {
            "text/plain": [
              "[([235.9259771456252, 88.35921480816262], 755.2998456833657),\n",
              " ([-159.75914916703096, 252.72064983338123], 897.1888728390384),\n",
              " ([341.5798881575133, 401.7493665558342], 587.1606585151048),\n",
              " ([235.9259771456252, 88.35921480816262], 755.2998456833657),\n",
              " ([-149.55511712002232, 457.5069782750403], 529.5175755072069),\n",
              " ([-424.9087346323346, -132.76709292353138], 1140.227575574424),\n",
              " ([341.5798881575133, 401.7493665558342], 587.1606585151048),\n",
              " ([-149.55511712002232, 457.5069782750403], 529.5175755072069)]"
            ]
          },
          "metadata": {},
          "execution_count": 19
        }
      ]
    },
    {
      "cell_type": "code",
      "source": [
        "#breeding -- uses the \"mating pool\" and calls \"crossover\" function\n",
        "def breeding(matingPool):\n",
        "    #the parents will be the first two individuals, then next two, then next two and so on\n",
        "\n",
        "    children = []\n",
        "    childrenFitness = []\n",
        "    for i in range(0,populationSize-1,2):\n",
        "        child1,child2=crossover(matingPool[i],matingPool[i+1])\n",
        "\n",
        "        child1=mutate(child1)\n",
        "        child2=mutate(child2)\n",
        "\n",
        "        children.append(child1)\n",
        "        children.append(child2)\n",
        "\n",
        "        childrenFitness.append(evaluate(child1))\n",
        "        childrenFitness.append(evaluate(child2))\n",
        "\n",
        "    tempZip = zip(children, childrenFitness)\n",
        "    popVals = sorted(tempZip, key=lambda tempZip: tempZip[1], reverse = False)\n",
        "\n",
        "    #the return object is a sorted list of tuples:\n",
        "    #the first element of the tuple is the chromosome; the second element is the fitness value\n",
        "    #for example:  popVals[0] is represents the best individual in the population\n",
        "    #popVals[0] for a 2D problem might be  ([-70.2, 426.1], 483.3)  -- chromosome is the list [-70.2, 426.1] and the fitness is 483.3\n",
        "\n",
        "    return popVals\n",
        "\n",
        "crossover(pop[0],pop[1])"
      ],
      "metadata": {
        "id": "03X8tEbfQ89p",
        "outputId": "88fcf848-2bf7-48b2-d938-b5cf00036661",
        "colab": {
          "base_uri": "https://localhost:8080/"
        }
      },
      "execution_count": 46,
      "outputs": [
        {
          "output_type": "execute_result",
          "data": {
            "text/plain": [
              "(([446.14353105779264, 250.54704019124802], 529.5175755072069),\n",
              " ([-149.55511712002232, 457.5069782750403], 527.4133728145813))"
            ]
          },
          "metadata": {},
          "execution_count": 46
        }
      ]
    },
    {
      "cell_type": "code",
      "source": [
        "\n",
        "\n",
        "\n",
        "#insertion step\n",
        "def insert(pop,kids):\n",
        "\n",
        "    #this is not a good solution here... essentially this is replacing the previous generation with the offspring and not implementing any type of elitism\n",
        "    #at the VERY LEAST evaluate the best solution from \"pop\" to make sure you are not losing a very good chromosome from last generation\n",
        "    #maybe want to keep the top 5? 10? solutions from pop -- it's up to you.\n",
        "\n",
        "    for i in range(eliteSolutions):\n",
        "      kids.append(pop[i])\n",
        "\n",
        "\n",
        "    return kids\n",
        "\n",
        "\n",
        "\n",
        "#perform a simple summary on the population: returns the best chromosome fitness, the average population fitness, and the variance of the population fitness\n",
        "def summaryFitness(pop):\n",
        "    a=np.array(list(zip(*pop))[1])\n",
        "    return np.max(a), np.mean(a), np.min(a), np.std(a)\n",
        "\n",
        "\n",
        "#the best solution should always be the first element...\n",
        "def bestSolutionInPopulation(pop):\n",
        "    print (\"Best solution: \", pop[0][0])\n",
        "\n",
        "\n",
        "\n",
        "def main():\n",
        "    #GA main code\n",
        "    Population = initializePopulation()\n",
        "\n",
        "\n",
        "    #optional: you can output results to a file -- i've commented out all of the file out put for now\n",
        "    #f = open('out.txt', 'w')  #---uncomment this line to create a file for saving output\n",
        "\n",
        "\n",
        "    for j in range(Generations):\n",
        "\n",
        "        mates=rouletteWheel(Population)  #<--need to replace this with roulette wheel selection, e.g.:  mates=rouletteWheel(Population)\n",
        "        Offspring = breeding(mates)\n",
        "        Population = insert(Population, Offspring)\n",
        "\n",
        "        #end of GA main code\n",
        "\n",
        "        maxVal, meanVal, minVal, stdVal=summaryFitness(Population)          #check out the population at each generation\n",
        "        print(\"Iteration: \", j, summaryFitness(Population))                 #print to screen; turn this off for faster results\n",
        "\n",
        "        #f.write(str(minVal) + \" \" + str(meanVal) + \" \" + str(varVal) + \"\\n\")  #---uncomment this line to write to  file\n",
        "\n",
        "    #f.close()   #---uncomment this line to close the file for saving output\n",
        "\n",
        "    print (summaryFitness(Population))\n",
        "    bestSolutionInPopulation(Population)\n",
        "\n",
        "\n",
        "if __name__ == \"__main__\":\n",
        "    main()\n"
      ],
      "metadata": {
        "id": "lZqIR1dVQqjB",
        "outputId": "9755db05-f54c-47b1-ca32-995cd63aff8f",
        "colab": {
          "base_uri": "https://localhost:8080/",
          "height": 310
        }
      },
      "execution_count": 35,
      "outputs": [
        {
          "output_type": "error",
          "ename": "ValueError",
          "evalue": "setting an array element with a sequence. The requested array has an inhomogeneous shape after 1 dimensions. The detected shape was (2,) + inhomogeneous part.",
          "traceback": [
            "\u001b[0;31m---------------------------------------------------------------------------\u001b[0m",
            "\u001b[0;31mValueError\u001b[0m                                Traceback (most recent call last)",
            "\u001b[0;32m<ipython-input-35-068fac699cec>\u001b[0m in \u001b[0;36m<cell line: 56>\u001b[0;34m()\u001b[0m\n\u001b[1;32m     55\u001b[0m \u001b[0;34m\u001b[0m\u001b[0m\n\u001b[1;32m     56\u001b[0m \u001b[0;32mif\u001b[0m \u001b[0m__name__\u001b[0m \u001b[0;34m==\u001b[0m \u001b[0;34m\"__main__\"\u001b[0m\u001b[0;34m:\u001b[0m\u001b[0;34m\u001b[0m\u001b[0;34m\u001b[0m\u001b[0m\n\u001b[0;32m---> 57\u001b[0;31m     \u001b[0mmain\u001b[0m\u001b[0;34m(\u001b[0m\u001b[0;34m)\u001b[0m\u001b[0;34m\u001b[0m\u001b[0;34m\u001b[0m\u001b[0m\n\u001b[0m",
            "\u001b[0;32m<ipython-input-35-068fac699cec>\u001b[0m in \u001b[0;36mmain\u001b[0;34m()\u001b[0m\n\u001b[1;32m     38\u001b[0m \u001b[0;34m\u001b[0m\u001b[0m\n\u001b[1;32m     39\u001b[0m         \u001b[0mmates\u001b[0m\u001b[0;34m=\u001b[0m\u001b[0mrouletteWheel\u001b[0m\u001b[0;34m(\u001b[0m\u001b[0mPopulation\u001b[0m\u001b[0;34m)\u001b[0m  \u001b[0;31m#<--need to replace this with roulette wheel selection, e.g.:  mates=rouletteWheel(Population)\u001b[0m\u001b[0;34m\u001b[0m\u001b[0;34m\u001b[0m\u001b[0m\n\u001b[0;32m---> 40\u001b[0;31m         \u001b[0mOffspring\u001b[0m \u001b[0;34m=\u001b[0m \u001b[0mbreeding\u001b[0m\u001b[0;34m(\u001b[0m\u001b[0mmates\u001b[0m\u001b[0;34m)\u001b[0m\u001b[0;34m\u001b[0m\u001b[0;34m\u001b[0m\u001b[0m\n\u001b[0m\u001b[1;32m     41\u001b[0m         \u001b[0mPopulation\u001b[0m \u001b[0;34m=\u001b[0m \u001b[0minsert\u001b[0m\u001b[0;34m(\u001b[0m\u001b[0mPopulation\u001b[0m\u001b[0;34m,\u001b[0m \u001b[0mOffspring\u001b[0m\u001b[0;34m)\u001b[0m\u001b[0;34m\u001b[0m\u001b[0;34m\u001b[0m\u001b[0m\n\u001b[1;32m     42\u001b[0m \u001b[0;34m\u001b[0m\u001b[0m\n",
            "\u001b[0;32m<ipython-input-34-6c3cccffa939>\u001b[0m in \u001b[0;36mbreeding\u001b[0;34m(matingPool)\u001b[0m\n\u001b[1;32m     14\u001b[0m         \u001b[0mchildren\u001b[0m\u001b[0;34m.\u001b[0m\u001b[0mappend\u001b[0m\u001b[0;34m(\u001b[0m\u001b[0mchild2\u001b[0m\u001b[0;34m)\u001b[0m\u001b[0;34m\u001b[0m\u001b[0;34m\u001b[0m\u001b[0m\n\u001b[1;32m     15\u001b[0m \u001b[0;34m\u001b[0m\u001b[0m\n\u001b[0;32m---> 16\u001b[0;31m         \u001b[0mchildrenFitness\u001b[0m\u001b[0;34m.\u001b[0m\u001b[0mappend\u001b[0m\u001b[0;34m(\u001b[0m\u001b[0mevaluate\u001b[0m\u001b[0;34m(\u001b[0m\u001b[0mchild1\u001b[0m\u001b[0;34m)\u001b[0m\u001b[0;34m)\u001b[0m\u001b[0;34m\u001b[0m\u001b[0;34m\u001b[0m\u001b[0m\n\u001b[0m\u001b[1;32m     17\u001b[0m         \u001b[0mchildrenFitness\u001b[0m\u001b[0;34m.\u001b[0m\u001b[0mappend\u001b[0m\u001b[0;34m(\u001b[0m\u001b[0mevaluate\u001b[0m\u001b[0;34m(\u001b[0m\u001b[0mchild2\u001b[0m\u001b[0;34m)\u001b[0m\u001b[0;34m)\u001b[0m\u001b[0;34m\u001b[0m\u001b[0;34m\u001b[0m\u001b[0m\n\u001b[1;32m     18\u001b[0m \u001b[0;34m\u001b[0m\u001b[0m\n",
            "\u001b[0;32m<ipython-input-9-dc483f8ba73b>\u001b[0m in \u001b[0;36mevaluate\u001b[0;34m(x)\u001b[0m\n\u001b[1;32m     34\u001b[0m \u001b[0;34m\u001b[0m\u001b[0m\n\u001b[1;32m     35\u001b[0m \u001b[0;32mdef\u001b[0m \u001b[0mevaluate\u001b[0m\u001b[0;34m(\u001b[0m\u001b[0mx\u001b[0m\u001b[0;34m)\u001b[0m\u001b[0;34m:\u001b[0m\u001b[0;34m\u001b[0m\u001b[0;34m\u001b[0m\u001b[0m\n\u001b[0;32m---> 36\u001b[0;31m   \u001b[0mx\u001b[0m \u001b[0;34m=\u001b[0m \u001b[0mnp\u001b[0m\u001b[0;34m.\u001b[0m\u001b[0marray\u001b[0m\u001b[0;34m(\u001b[0m\u001b[0mx\u001b[0m\u001b[0;34m)\u001b[0m\u001b[0;34m\u001b[0m\u001b[0;34m\u001b[0m\u001b[0m\n\u001b[0m\u001b[1;32m     37\u001b[0m   \u001b[0;32mreturn\u001b[0m \u001b[0;36m418.982887272433\u001b[0m\u001b[0;34m*\u001b[0m\u001b[0mn\u001b[0m \u001b[0;34m-\u001b[0m \u001b[0msum\u001b[0m\u001b[0;34m(\u001b[0m\u001b[0mx\u001b[0m\u001b[0;34m*\u001b[0m\u001b[0mnp\u001b[0m\u001b[0;34m.\u001b[0m\u001b[0msin\u001b[0m\u001b[0;34m(\u001b[0m\u001b[0mnp\u001b[0m\u001b[0;34m.\u001b[0m\u001b[0msqrt\u001b[0m\u001b[0;34m(\u001b[0m\u001b[0mnp\u001b[0m\u001b[0;34m.\u001b[0m\u001b[0mabs\u001b[0m\u001b[0;34m(\u001b[0m\u001b[0mx\u001b[0m\u001b[0;34m)\u001b[0m\u001b[0;34m)\u001b[0m\u001b[0;34m)\u001b[0m\u001b[0;34m)\u001b[0m\u001b[0;34m\u001b[0m\u001b[0;34m\u001b[0m\u001b[0m\n",
            "\u001b[0;31mValueError\u001b[0m: setting an array element with a sequence. The requested array has an inhomogeneous shape after 1 dimensions. The detected shape was (2,) + inhomogeneous part."
          ]
        }
      ]
    }
  ]
}