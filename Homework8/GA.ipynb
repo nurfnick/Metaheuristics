{
  "nbformat": 4,
  "nbformat_minor": 0,
  "metadata": {
    "colab": {
      "provenance": [],
      "authorship_tag": "ABX9TyOpPNpBUBdQYTGcf0sJwarI",
      "include_colab_link": true
    },
    "kernelspec": {
      "name": "python3",
      "display_name": "Python 3"
    },
    "language_info": {
      "name": "python"
    }
  },
  "cells": [
    {
      "cell_type": "markdown",
      "metadata": {
        "id": "view-in-github",
        "colab_type": "text"
      },
      "source": [
        "<a href=\"https://colab.research.google.com/github/nurfnick/Metaheuristics/blob/main/Homework8/GA.ipynb\" target=\"_parent\"><img src=\"https://colab.research.google.com/assets/colab-badge.svg\" alt=\"Open In Colab\"/></a>"
      ]
    },
    {
      "cell_type": "code",
      "source": [
        "#basic genetic algorithm Python code provided as base code for the DSA/ISE 5113 course\n",
        "#author: Charles Nicholson\n",
        "#date: 4/5/2019\n",
        "\n",
        "\n",
        "\n",
        "#------------------------------------------------------------------------------\n",
        "\n",
        "#Student name:\n",
        "#Date:\n",
        "\n",
        "\n",
        "#need some python libraries\n",
        "import copy\n",
        "import math\n",
        "from random import Random\n",
        "import numpy as np\n",
        "\n",
        "\n",
        "\n",
        "#to setup a random number generator, we will specify a \"seed\" value\n",
        "#need this for the random number generation -- do not change\n",
        "seed = 51132023\n",
        "myPRNG = Random(seed)\n",
        "\n",
        "#to get a random number between 0 and 1, use this:             myPRNG.random()\n",
        "#to get a random number between lwrBnd and upprBnd, use this:  myPRNG.uniform(lwrBnd,upprBnd)\n",
        "#to get a random integer between lwrBnd and upprBnd, use this: myPRNG.randint(lwrBnd,upprBnd)\n",
        "\n",
        "#number of dimensions in a solution\n",
        "n = 2\n",
        "\n",
        "#create the function to evaluate against\n",
        "\n",
        "def evaluate(x,n):\n",
        "  x = np.array(x)\n",
        "  return 418.982887272433*n - sum(x*np.sin(np.sqrt(np.abs(x))))"
      ],
      "metadata": {
        "id": "26OLLbiuFZUD"
      },
      "execution_count": 18,
      "outputs": []
    },
    {
      "cell_type": "code",
      "source": [
        "evaluate([420.9687,420.9687],n)"
      ],
      "metadata": {
        "colab": {
          "base_uri": "https://localhost:8080/"
        },
        "id": "2SnKeAulFcDb",
        "outputId": "0cbb0f16-c575-46de-d74a-700c8f81831e"
      },
      "execution_count": 19,
      "outputs": [
        {
          "output_type": "execute_result",
          "data": {
            "text/plain": [
              "5.410356607171707e-10"
            ]
          },
          "metadata": {},
          "execution_count": 19
        }
      ]
    },
    {
      "cell_type": "code",
      "source": [
        "#create an continuous valued chromosome\n",
        "def createChromosome(n):\n",
        "    #this code as-is expects chromosomes to be stored as a list, e.g., x = []\n",
        "    #write code to generate chromosomes, most likely want this to be randomly generated\n",
        "\n",
        "    x = []   #i recommend creating the solution as a list\n",
        "    for i in range(n):\n",
        "      x.append(myPRNG.uniform(-500,500))\n",
        "    return x\n",
        "\n",
        "\n",
        "populationSize = 8 #size of GA population\n",
        "#create initial population by calling the \"createChromosome\" function many times and adding each to a list of chromosomes (a.k.a., the \"population\")\n",
        "def initializePopulation(): #n is size of population; d is dimensions of chromosome\n",
        "\n",
        "    population = []\n",
        "    populationFitness = []\n",
        "\n",
        "    for i in range(populationSize):\n",
        "        population.append(createChromosome(n))\n",
        "        populationFitness.append(evaluate(population[i],n))\n",
        "\n",
        "    tempZip = zip(population, populationFitness)\n",
        "    popVals = sorted(tempZip, key=lambda tempZip: tempZip[1], reverse = False)\n",
        "\n",
        "    #the return object is a reversed sorted list of tuples:\n",
        "    #the first element of the tuple is the chromosome; the second element is the fitness value\n",
        "    #for example:  popVals[0] is represents the best individual in the population\n",
        "    #popVals[0] for a 2D problem might be  ([-70.2, 426.1], 483.3)  -- chromosome is the list [-70.2, 426.1] and the fitness is 483.3\n",
        "\n",
        "    return popVals"
      ],
      "metadata": {
        "id": "ESLFVICxG9Qk"
      },
      "execution_count": 22,
      "outputs": []
    },
    {
      "cell_type": "code",
      "source": [
        "pop = initializePopulation()\n",
        "\n",
        "pop"
      ],
      "metadata": {
        "colab": {
          "base_uri": "https://localhost:8080/"
        },
        "id": "C0PY_zLWG-1Q",
        "outputId": "07e81843-2e49-4224-c620-27dcb70b8ef9"
      },
      "execution_count": 24,
      "outputs": [
        {
          "output_type": "execute_result",
          "data": {
            "text/plain": [
              "[([404.1146682060388, 449.1530471895783], 132.53033175884536),\n",
              " ([-310.1188587528966, 337.2710247821185], 701.8483695185636),\n",
              " ([23.82641000158003, 178.19367282497115], 735.8108475652186),\n",
              " ([73.00130668862175, 241.2664897151866], 739.6125402676463),\n",
              " ([0.14082369026658625, 140.209703122782], 930.9292019383014),\n",
              " ([274.02640683615505, -260.05922108516745], 937.4122993889677),\n",
              " ([-398.4425244009062, -137.0827512333458], 1091.3898621600692),\n",
              " ([-431.4228606636429, -95.97131947910367], 1208.319706559776)]"
            ]
          },
          "metadata": {},
          "execution_count": 24
        }
      ]
    },
    {
      "cell_type": "code",
      "source": [
        "crossOverRate = 0.8\n",
        "\n",
        "#implement a crossover\n",
        "def crossover(x1,x2):\n",
        "  p = myPRNG.random()\n",
        "  if crossOverRate>p:\n",
        "    z = myPRNG.randint(1,n-1)\n",
        "    offspring1 = x1[:z] + x2[z:]\n",
        "    offspring2 = x2[:z] + x1[z:]\n",
        "\n",
        "\n",
        "  else:\n",
        "    offspring1 = x1[:]\n",
        "    offspring2 = x2[:]\n",
        "\n",
        "        #with some probability (i.e., crossoverRate) perform breeding via crossover,\n",
        "        #i.e. two parents (x1 and x2) should produce two offsrping (offspring1 and offspring2)\n",
        "        # --- the first part of offspring1 comes from x1, and the second part of offspring1 comes from x2\n",
        "        # --- the first part of offspring2 comes from x2, and the second part of offspring2 comes from x1\n",
        "\n",
        "        #if no breeding occurs, then offspring1 and offspring2 can simply be copies of x1 and x2, respectively\n",
        "\n",
        "\n",
        "\n",
        "  return offspring1, offspring2  #two offspring are returned\n",
        "\n",
        "crossover(pop[0][0],pop[1][0])"
      ],
      "metadata": {
        "colab": {
          "base_uri": "https://localhost:8080/"
        },
        "id": "ylKte0suIux4",
        "outputId": "33668d90-4ac3-4012-dcb8-54ff4959fa0d"
      },
      "execution_count": 85,
      "outputs": [
        {
          "output_type": "execute_result",
          "data": {
            "text/plain": [
              "([404.1146682060388, 449.1530471895783],\n",
              " [-310.1188587528966, 337.2710247821185])"
            ]
          },
          "metadata": {},
          "execution_count": 85
        }
      ]
    },
    {
      "cell_type": "code",
      "execution_count": null,
      "metadata": {
        "id": "E5M81SgLEU7T"
      },
      "outputs": [],
      "source": [
        "\n",
        "\n",
        "\n",
        "#change anything you like below this line, but keep the gist of the program ------------------------------------\n",
        "\n",
        "#monitor the number of solutions evaluated\n",
        "solutionsChecked = 0\n",
        "\n",
        "\n",
        "\n",
        "Generations = 100   #number of GA generations\n",
        "\n",
        "crossOverRate = 0.8  #currently not used in the implementation; neeeds to be used.\n",
        "mutationRate = 0.05  #currently not used in the implementation; neeeds to be used.\n",
        "eliteSolutions = 10  #currently not used in the implementation; neeed to use some type of elitism\n",
        "\n",
        "\n",
        "\n",
        "\n",
        "\n",
        "\n",
        "\n",
        "\n",
        "\n",
        "\n",
        "#performs tournament selection; k chromosomes are selected (with repeats allowed) and the best advances to the mating pool\n",
        "#function returns the mating pool with size equal to the initial population\n",
        "def tournamentSelection(pop,k):\n",
        "\n",
        "    #randomly select k chromosomes; the best joins the mating pool\n",
        "    matingPool = []\n",
        "\n",
        "    while len(matingPool)<populationSize:\n",
        "\n",
        "        ids = [myPRNG.randint(0,populationSize-1) for i in range(k)]\n",
        "        competingIndividuals = [pop[i][1] for i in ids]\n",
        "        bestID=ids[competingIndividuals.index(max(competingIndividuals))]\n",
        "        matingPool.append(pop[bestID][0])\n",
        "\n",
        "    return matingPool\n",
        "\n",
        "\n",
        "def rouletteWheel(pop):\n",
        "\n",
        "\n",
        "    #create sometype of rouletteWheel selection -- can be based on fitness function or fitness rank\n",
        "    #(remember the population is always ordered from most fit to least fit, so pop[0] is the fittest chromosome in the population, and pop[populationSize-1] is the least fit!\n",
        "\n",
        "\n",
        "    return matingPool\n",
        "\n",
        "\n",
        "#function to mutate solutions\n",
        "def mutate(x):\n",
        "\n",
        "    #create some mutation logic  -- make sure to incorporate \"mutationRate\" somewhere and dont' do TOO much mutation\n",
        "\n",
        "    return x\n",
        "\n",
        "\n",
        "\n",
        "\n",
        "#breeding -- uses the \"mating pool\" and calls \"crossover\" function\n",
        "def breeding(matingPool):\n",
        "    #the parents will be the first two individuals, then next two, then next two and so on\n",
        "\n",
        "    children = []\n",
        "    childrenFitness = []\n",
        "    for i in range(0,populationSize-1,2):\n",
        "        child1,child2=crossover(matingPool[i],matingPool[i+1])\n",
        "\n",
        "        child1=mutate(child1)\n",
        "        child2=mutate(child2)\n",
        "\n",
        "        children.append(child1)\n",
        "        children.append(child2)\n",
        "\n",
        "        childrenFitness.append(evaluate(child1))\n",
        "        childrenFitness.append(evaluate(child2))\n",
        "\n",
        "    tempZip = zip(children, childrenFitness)\n",
        "    popVals = sorted(tempZip, key=lambda tempZip: tempZip[1], reverse = True)\n",
        "\n",
        "    #the return object is a sorted list of tuples:\n",
        "    #the first element of the tuple is the chromosome; the second element is the fitness value\n",
        "    #for example:  popVals[0] is represents the best individual in the population\n",
        "    #popVals[0] for a 2D problem might be  ([-70.2, 426.1], 483.3)  -- chromosome is the list [-70.2, 426.1] and the fitness is 483.3\n",
        "\n",
        "    return popVals\n",
        "\n",
        "\n",
        "#insertion step\n",
        "def insert(pop,kids):\n",
        "\n",
        "    #this is not a good solution here... essentially this is replacing the previous generation with the offspring and not implementing any type of elitism\n",
        "    #at the VERY LEAST evaluate the best solution from \"pop\" to make sure you are not losing a very good chromosome from last generation\n",
        "    #maybe want to keep the top 5? 10? solutions from pop -- it's up to you.\n",
        "\n",
        "    return kids\n",
        "\n",
        "\n",
        "\n",
        "#perform a simple summary on the population: returns the best chromosome fitness, the average population fitness, and the variance of the population fitness\n",
        "def summaryFitness(pop):\n",
        "    a=np.array(list(zip(*pop))[1])\n",
        "    return np.max(a), np.mean(a), np.min(a), np.std(a)\n",
        "\n",
        "\n",
        "#the best solution should always be the first element...\n",
        "def bestSolutionInPopulation(pop):\n",
        "    print (\"Best solution: \", pop[0][0])\n",
        "    print (\"Items selected: \", itemsSelected(pop[0][0]))\n",
        "    print (\"Value: \", pop[0][1])\n",
        "    print (\"Weight: \", calcWeight(pop[0][0]))\n",
        "\n",
        "\n",
        "\n",
        "def main():\n",
        "    #GA main code\n",
        "    Population = initializePopulation()\n",
        "\n",
        "\n",
        "    #optional: you can output results to a file -- i've commented out all of the file out put for now\n",
        "    #f = open('out.txt', 'w')  #---uncomment this line to create a file for saving output\n",
        "\n",
        "\n",
        "    for j in range(Generations):\n",
        "\n",
        "        mates=tournamentSelection(Population,10)  #<--need to replace this with roulette wheel selection, e.g.:  mates=rouletteWheel(Population)\n",
        "        Offspring = breeding(mates)\n",
        "        Population = insert(Population, Offspring)\n",
        "\n",
        "        #end of GA main code\n",
        "\n",
        "        maxVal, meanVal, minVal, stdVal=summaryFitness(Population)          #check out the population at each generation\n",
        "        print(\"Iteration: \", j, summaryFitness(Population))                 #print to screen; turn this off for faster results\n",
        "\n",
        "        #f.write(str(minVal) + \" \" + str(meanVal) + \" \" + str(varVal) + \"\\n\")  #---uncomment this line to write to  file\n",
        "\n",
        "    #f.close()   #---uncomment this line to close the file for saving output\n",
        "\n",
        "    print (summaryFitness(Population))\n",
        "    bestSolutionInPopulation(Population)\n",
        "\n",
        "\n",
        "if __name__ == \"__main__\":\n",
        "    main()\n",
        ""
      ]
    }
  ]
}