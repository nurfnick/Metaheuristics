{
  "nbformat": 4,
  "nbformat_minor": 0,
  "metadata": {
    "colab": {
      "provenance": [],
      "authorship_tag": "ABX9TyMlAle7QmS+v9KC+xwQd63j",
      "include_colab_link": true
    },
    "kernelspec": {
      "name": "python3",
      "display_name": "Python 3"
    },
    "language_info": {
      "name": "python"
    }
  },
  "cells": [
    {
      "cell_type": "markdown",
      "metadata": {
        "id": "view-in-github",
        "colab_type": "text"
      },
      "source": [
        "<a href=\"https://colab.research.google.com/github/nurfnick/Metaheuristics/blob/main/Homework8/PSO.ipynb\" target=\"_parent\"><img src=\"https://colab.research.google.com/assets/colab-badge.svg\" alt=\"Open In Colab\"/></a>"
      ]
    },
    {
      "cell_type": "code",
      "execution_count": 7,
      "metadata": {
        "id": "PzOuHn9WzEiZ"
      },
      "outputs": [],
      "source": [
        "#the intial framework for a particle swarm optimization for Schwefel minimization problem\n",
        "#author: Charles Nicholson\n",
        "#for ISE/DSA 5113\n",
        "\n",
        "\n",
        "#need some python libraries\n",
        "import copy\n",
        "import math\n",
        "from random import Random\n",
        "\n",
        "\n",
        "#to setup a random number generator, we will specify a \"seed\" value\n",
        "seed = 12345\n",
        "myPRNG = Random(seed)\n",
        "\n",
        "#to get a random number between 0 and 1, write call this:             myPRNG.random()\n",
        "#to get a random number between lwrBnd and upprBnd, write call this:  myPRNG.uniform(lwrBnd,upprBnd)\n",
        "#to get a random integer between lwrBnd and upprBnd, write call this: myPRNG.randint(lwrBnd,upprBnd)\n",
        "\n",
        "lowerBound = -500  #bounds for Schwefel Function search space\n",
        "upperBound = 500   #bounds for Schwefel Function search space\n",
        "\n",
        "#you may change anything below this line that you wish too -----------------------------------------------------\n",
        "\n",
        "#note: for the more experienced Python programmers, you might want to consider taking a more object-oriented approach to the PSO implementation, i.e.: a particle class with methods to initialize itself, and update its own velocity and position; a swarm class with a method to iterates through all particles to call update functions, etc.\n",
        "\n",
        "#number of dimensions of problem\n",
        "dimensions = 2\n",
        "\n",
        "#number of particles in swarm\n",
        "swarmSize = 10\n",
        "\n",
        "\n",
        "#Schwefel function to evaluate a real-valued solution x\n",
        "# note: the feasible space is an n-dimensional hypercube centered at the origin with side length = 2 * 500\n",
        "\n",
        "def evaluate(x):\n",
        "      val = 0\n",
        "      d = len(x)\n",
        "      for i in range(d):\n",
        "            val = val + x[i]*math.sin(math.sqrt(abs(x[i])))\n",
        "\n",
        "      val = 418.9829*d - val\n",
        "\n",
        "      return val\n",
        "\n",
        "\n",
        "\n",
        "#the swarm will be represented as a list of positions, velocities, values, pbest, and pbest values\n",
        "\n",
        "pos = [[] for _ in range(swarmSize)]      #position of particles -- will be a list of lists; e.g., for a 2D problem with 3 particles: [[17,4],[-100,2],[87,-1.2]]\n",
        "vel = [[] for _ in range(swarmSize)]      #velocity of particles -- will be a list of lists similar to the \"pos\" object\n",
        "\n",
        "#note: pos[0] and vel[0] provides the position and velocity of particle 0; pos[1] and vel[1] provides the position and velocity of particle 1; and so on.\n",
        "\n",
        "\n",
        "curValue = [] #evaluation value of current position  -- will be a list of real values; curValue[0] provides the evaluation of particle 0 in it's current position\n",
        "pbest = []    #particles' best historical position -- will be a list of lists: pbest[0] provides the position of particle 0's best historical position\n",
        "pbestVal = [] #value of pbest position  -- will be a list of real values: pbestBal[0] provides the value of particle 0's pbest location\n",
        "\n",
        "\n",
        "#initialize the swarm randomly\n",
        "for i in range(swarmSize):\n",
        "      for j in range(dimensions):\n",
        "            pos[i].append(myPRNG.uniform(lowerBound,upperBound))    #assign random value between lower and upper bounds\n",
        "            vel[i].append(myPRNG.uniform(-1,1))                     #assign random value between -1 and 1   --- maybe these are good bounds?  maybe not...\n",
        "\n",
        "      curValue.append(evaluate(pos[i]))   #evaluate the current position\n",
        "\n",
        "pbest = pos[:]          # initialize pbest to the starting position\n",
        "pbestVal = curValue[:]  # initialize pbestVal to the starting position value\n",
        "\n",
        "\n",
        "pbestestVal = min(curValue)\n",
        "pbestest = pbest[pbestVal.index(pbestestVal)]\n",
        "\n",
        "#Currently missing several elements\n",
        "#e.g., velocity update function; velocity max limitations; position updates; dealing with infeasible space; identifying the global best; main loop, stopping criterion, etc.\n",
        "\n",
        "def velocityUpdate():\n",
        "  for i in range(swarmSize):\n",
        "    vel[i] = w*vel[i]+phi1*myPRNG.random()*(pbest[i]-pos[i])+phi2*myPRNG.random()*(pbestest-pos[i])\n",
        "\n",
        "\n",
        "\n",
        "def positionUpdate():\n",
        "  for i in range(swarmSize):\n",
        "    pos[i] = pos[i] + vel[i]\n",
        "    curValue[i] = evaluate(pos[i])\n",
        "\n",
        "\n",
        "def pbestUpdate():\n",
        "  for i in range(swarmSize):\n",
        "    if curValue[i]< pbestVal[i]:\n",
        "      pbest[i] = pos[i]\n",
        "      pbestVal[i] = curValue[i]\n",
        "      if curValue[i]<pbestestVal:\n",
        "        pbestestVal = curValue[i]\n",
        "        pbestest = pos[i]\n",
        ""
      ]
    },
    {
      "cell_type": "code",
      "source": [
        "pos"
      ],
      "metadata": {
        "colab": {
          "base_uri": "https://localhost:8080/"
        },
        "id": "5wUc-QS43CI9",
        "outputId": "0d319003-3e10-4f58-d1ce-50c45b8552be"
      },
      "execution_count": 8,
      "outputs": [
        {
          "output_type": "execute_result",
          "data": {
            "text/plain": [
              "[[-83.38012745465886, 325.2065092537432],\n",
              " [-131.5883105115243, 66.00816872886128],\n",
              " [-375.73311571646985, 62.078488075842984],\n",
              " [53.22108556932983, 458.06478509954866],\n",
              " [478.63999557041006, 3.935368110037473],\n",
              " [218.96714030088503, -158.43957422644786],\n",
              " [-160.48222760207932, 478.79845418565685],\n",
              " [-496.5453892449044, 370.76696875547634],\n",
              " [-321.1262353764849, -85.46753148814224],\n",
              " [78.08602736632315, -267.3788967715923]]"
            ]
          },
          "metadata": {},
          "execution_count": 8
        }
      ]
    },
    {
      "cell_type": "code",
      "source": [
        "vel"
      ],
      "metadata": {
        "colab": {
          "base_uri": "https://localhost:8080/"
        },
        "id": "tpL9aDe53Dsi",
        "outputId": "d33fdd0f-28d3-4e90-9002-1eac2b1f5ee6"
      },
      "execution_count": 10,
      "outputs": [
        {
          "output_type": "execute_result",
          "data": {
            "text/plain": [
              "[[-0.9796616610858633, -0.4027202896008144],\n",
              " [-0.6126773019098515, -0.6766243521412636],\n",
              " [-0.13412746398016817, -0.6513128785525364],\n",
              " [-0.29019722732680253, -0.8174118022465298],\n",
              " [-0.175761214121398, -0.7037076621396217],\n",
              " [-0.6200572425563593, -0.9529575637155989],\n",
              " [0.9349649177597428, 0.48906008028206926],\n",
              " [0.8804770061954856, 0.5416686770336216],\n",
              " [-0.8010007343807772, 0.771072934290959],\n",
              " [0.47316442988816454, 0.04719516032931681]]"
            ]
          },
          "metadata": {},
          "execution_count": 10
        }
      ]
    },
    {
      "cell_type": "code",
      "source": [
        "w = 1\n",
        "phi1 = 1\n",
        "phi2 = 1\n",
        "\n",
        "velocityUpdate()\n",
        "\n",
        "vel"
      ],
      "metadata": {
        "colab": {
          "base_uri": "https://localhost:8080/",
          "height": 340
        },
        "id": "YJepHTAg3Fv5",
        "outputId": "369f4c53-d646-4f6a-a200-f2c4d19080e2"
      },
      "execution_count": 12,
      "outputs": [
        {
          "output_type": "error",
          "ename": "TypeError",
          "evalue": "unsupported operand type(s) for -: 'list' and 'list'",
          "traceback": [
            "\u001b[0;31m---------------------------------------------------------------------------\u001b[0m",
            "\u001b[0;31mTypeError\u001b[0m                                 Traceback (most recent call last)",
            "\u001b[0;32m<ipython-input-12-5d31d24a4e85>\u001b[0m in \u001b[0;36m<cell line: 5>\u001b[0;34m()\u001b[0m\n\u001b[1;32m      3\u001b[0m \u001b[0mphi2\u001b[0m \u001b[0;34m=\u001b[0m \u001b[0;36m1\u001b[0m\u001b[0;34m\u001b[0m\u001b[0;34m\u001b[0m\u001b[0m\n\u001b[1;32m      4\u001b[0m \u001b[0;34m\u001b[0m\u001b[0m\n\u001b[0;32m----> 5\u001b[0;31m \u001b[0mvelocityUpdate\u001b[0m\u001b[0;34m(\u001b[0m\u001b[0;34m)\u001b[0m\u001b[0;34m\u001b[0m\u001b[0;34m\u001b[0m\u001b[0m\n\u001b[0m\u001b[1;32m      6\u001b[0m \u001b[0;34m\u001b[0m\u001b[0m\n\u001b[1;32m      7\u001b[0m \u001b[0mvel\u001b[0m\u001b[0;34m\u001b[0m\u001b[0;34m\u001b[0m\u001b[0m\n",
            "\u001b[0;32m<ipython-input-7-2354bb1c0a10>\u001b[0m in \u001b[0;36mvelocityUpdate\u001b[0;34m()\u001b[0m\n\u001b[1;32m     80\u001b[0m \u001b[0;32mdef\u001b[0m \u001b[0mvelocityUpdate\u001b[0m\u001b[0;34m(\u001b[0m\u001b[0;34m)\u001b[0m\u001b[0;34m:\u001b[0m\u001b[0;34m\u001b[0m\u001b[0;34m\u001b[0m\u001b[0m\n\u001b[1;32m     81\u001b[0m   \u001b[0;32mfor\u001b[0m \u001b[0mi\u001b[0m \u001b[0;32min\u001b[0m \u001b[0mrange\u001b[0m\u001b[0;34m(\u001b[0m\u001b[0mswarmSize\u001b[0m\u001b[0;34m)\u001b[0m\u001b[0;34m:\u001b[0m\u001b[0;34m\u001b[0m\u001b[0;34m\u001b[0m\u001b[0m\n\u001b[0;32m---> 82\u001b[0;31m     \u001b[0mvel\u001b[0m\u001b[0;34m[\u001b[0m\u001b[0mi\u001b[0m\u001b[0;34m]\u001b[0m \u001b[0;34m=\u001b[0m \u001b[0mw\u001b[0m\u001b[0;34m*\u001b[0m\u001b[0mvel\u001b[0m\u001b[0;34m[\u001b[0m\u001b[0mi\u001b[0m\u001b[0;34m]\u001b[0m\u001b[0;34m+\u001b[0m\u001b[0mphi1\u001b[0m\u001b[0;34m*\u001b[0m\u001b[0mmyPRNG\u001b[0m\u001b[0;34m.\u001b[0m\u001b[0mrandom\u001b[0m\u001b[0;34m(\u001b[0m\u001b[0;34m)\u001b[0m\u001b[0;34m*\u001b[0m\u001b[0;34m(\u001b[0m\u001b[0mpbest\u001b[0m\u001b[0;34m[\u001b[0m\u001b[0mi\u001b[0m\u001b[0;34m]\u001b[0m\u001b[0;34m-\u001b[0m\u001b[0mpos\u001b[0m\u001b[0;34m[\u001b[0m\u001b[0mi\u001b[0m\u001b[0;34m]\u001b[0m\u001b[0;34m)\u001b[0m\u001b[0;34m+\u001b[0m\u001b[0mphi2\u001b[0m\u001b[0;34m*\u001b[0m\u001b[0mmyPRNG\u001b[0m\u001b[0;34m.\u001b[0m\u001b[0mrandom\u001b[0m\u001b[0;34m(\u001b[0m\u001b[0;34m)\u001b[0m\u001b[0;34m*\u001b[0m\u001b[0;34m(\u001b[0m\u001b[0mpbestest\u001b[0m\u001b[0;34m-\u001b[0m\u001b[0mpos\u001b[0m\u001b[0;34m[\u001b[0m\u001b[0mi\u001b[0m\u001b[0;34m]\u001b[0m\u001b[0;34m)\u001b[0m\u001b[0;34m\u001b[0m\u001b[0;34m\u001b[0m\u001b[0m\n\u001b[0m\u001b[1;32m     83\u001b[0m \u001b[0;34m\u001b[0m\u001b[0m\n\u001b[1;32m     84\u001b[0m \u001b[0;34m\u001b[0m\u001b[0m\n",
            "\u001b[0;31mTypeError\u001b[0m: unsupported operand type(s) for -: 'list' and 'list'"
          ]
        }
      ]
    },
    {
      "cell_type": "code",
      "source": [],
      "metadata": {
        "id": "NEvRpFDq4w3J"
      },
      "execution_count": null,
      "outputs": []
    }
  ]
}